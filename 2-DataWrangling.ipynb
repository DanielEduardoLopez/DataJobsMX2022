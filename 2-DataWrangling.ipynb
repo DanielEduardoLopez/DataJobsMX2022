{
  "cells": [
    {
      "cell_type": "markdown",
      "metadata": {
        "id": "n_NW48j6YB5r"
      },
      "source": [
        "# Project: **Data Jobs Salaries in Mexico in July 2022**\n",
        "___\n",
        "___\n",
        "## **2. Data Wrangling**\n",
        "___\n",
        "\n",
        "Author: **Daniel Eduardo López**\n",
        "\n",
        "GitHub: **_https://github.com/DanielEduardoLopez_**\n",
        "\n",
        "Email: **_daniel-eduardo-lopez@outlook.com_**\n",
        "___"
      ]
    },
    {
      "cell_type": "markdown",
      "metadata": {
        "id": "K1Yw06j_YpaB"
      },
      "source": [
        "The purpose of the present notebook is to perform the process of **data cleaning and wrangling** in order to enable the analysis and visualization of the job data collected through web scraping.\n",
        "\n",
        "To do so, first, the data was load to a Pandas dataframe. Then, the data was explored with the Pandas and Seaborn libraries to gain some understanding and preliminary insights as well as defining some wrangling strategies to effectively clean the data.\n",
        "\n",
        "Finally, the data was cleaned with Pandas. Some of the procedures applied to the data were:\n",
        "- Drop of duplicates\n",
        "- Drop of null values\n",
        "- Harmonization of terms\n",
        "- Trimming and cleaning of values\n",
        "- Slicing of observations\n",
        "- Split of columns\n"
      ]
    },
    {
      "cell_type": "markdown",
      "metadata": {
        "id": "8yBUIVuUqEWL"
      },
      "source": [
        "### **1. Data loading and Exploration**\n",
        "___"
      ]
    },
    {
      "cell_type": "code",
      "execution_count": 620,
      "metadata": {
        "id": "R-AvEfZOXwJ-"
      },
      "outputs": [],
      "source": [
        "# Libraries importation\n",
        "import pandas as pd\n",
        "import numpy as np\n",
        "import matplotlib as mpl\n",
        "import matplotlib.pyplot as plt\n",
        "import seaborn as sns"
      ]
    },
    {
      "cell_type": "code",
      "execution_count": 621,
      "metadata": {
        "id": "nzPgEynvdLls"
      },
      "outputs": [],
      "source": [
        "mpl.style.use('ggplot') # For a ggplot-like plotting style"
      ]
    },
    {
      "cell_type": "code",
      "execution_count": 622,
      "metadata": {
        "colab": {
          "base_uri": "https://localhost:8080/",
          "height": 363
        },
        "id": "TW-SgUWOZk3H",
        "outputId": "8b5493f6-bb74-40e4-a56f-833c8331ff7d"
      },
      "outputs": [
        {
          "data": {
            "text/html": [
              "<div>\n",
              "<style scoped>\n",
              "    .dataframe tbody tr th:only-of-type {\n",
              "        vertical-align: middle;\n",
              "    }\n",
              "\n",
              "    .dataframe tbody tr th {\n",
              "        vertical-align: top;\n",
              "    }\n",
              "\n",
              "    .dataframe thead th {\n",
              "        text-align: right;\n",
              "    }\n",
              "</style>\n",
              "<table border=\"1\" class=\"dataframe\">\n",
              "  <thead>\n",
              "    <tr style=\"text-align: right;\">\n",
              "      <th></th>\n",
              "      <th>Job</th>\n",
              "      <th>Salary</th>\n",
              "      <th>Company</th>\n",
              "      <th>Location</th>\n",
              "    </tr>\n",
              "  </thead>\n",
              "  <tbody>\n",
              "    <tr>\n",
              "      <th>0</th>\n",
              "      <td>Analista de datos</td>\n",
              "      <td>$47,000 - $53,000  Mensual</td>\n",
              "      <td>P3 IMPULSORES ESTRATEGICOS</td>\n",
              "      <td>CDMX</td>\n",
              "    </tr>\n",
              "    <tr>\n",
              "      <th>1</th>\n",
              "      <td>Analista de Datos</td>\n",
              "      <td>$35,000  Mensual</td>\n",
              "      <td>Corporativo Mek de México</td>\n",
              "      <td>Ciudad de México</td>\n",
              "    </tr>\n",
              "    <tr>\n",
              "      <th>2</th>\n",
              "      <td>Analista de datos</td>\n",
              "      <td>NaN</td>\n",
              "      <td>FIDELITY MARKETING S.A DE C.V</td>\n",
              "      <td>CDMX</td>\n",
              "    </tr>\n",
              "    <tr>\n",
              "      <th>3</th>\n",
              "      <td>Analista de datos</td>\n",
              "      <td>$13,000 - $13,300  Mensual</td>\n",
              "      <td>Universidad Tecnológica de México</td>\n",
              "      <td>Ciudad de México</td>\n",
              "    </tr>\n",
              "    <tr>\n",
              "      <th>4</th>\n",
              "      <td>Analista de Datos</td>\n",
              "      <td>NaN</td>\n",
              "      <td>Laboratorios Médicos del Chopo</td>\n",
              "      <td>CDMX</td>\n",
              "    </tr>\n",
              "    <tr>\n",
              "      <th>5</th>\n",
              "      <td>ANALISTA DE DATOS</td>\n",
              "      <td>$8,500 - $9,000  Mensual</td>\n",
              "      <td>Conduent de México SA de CV</td>\n",
              "      <td>Chih.</td>\n",
              "    </tr>\n",
              "    <tr>\n",
              "      <th>6</th>\n",
              "      <td>Analista de datos</td>\n",
              "      <td>NaN</td>\n",
              "      <td>Banamex</td>\n",
              "      <td>CDMX</td>\n",
              "    </tr>\n",
              "    <tr>\n",
              "      <th>7</th>\n",
              "      <td>Analista de Datos</td>\n",
              "      <td>$7,500 - $8,500  Mensual</td>\n",
              "      <td>Grupo Comercial Control</td>\n",
              "      <td>Edo. Méx.​</td>\n",
              "    </tr>\n",
              "    <tr>\n",
              "      <th>8</th>\n",
              "      <td>Analista de datos</td>\n",
              "      <td>$7,000 - $8,000  Mensual</td>\n",
              "      <td>Ediciones Larousse, S.A. de C.V.</td>\n",
              "      <td>CDMX</td>\n",
              "    </tr>\n",
              "    <tr>\n",
              "      <th>9</th>\n",
              "      <td>ANALISTA DE DATOS</td>\n",
              "      <td>$12,000  Mensual</td>\n",
              "      <td>Auto Líneas América</td>\n",
              "      <td>Gto.</td>\n",
              "    </tr>\n",
              "  </tbody>\n",
              "</table>\n",
              "</div>"
            ],
            "text/plain": [
              "                 Job                      Salary  \\\n",
              "0  Analista de datos  $47,000 - $53,000  Mensual   \n",
              "1  Analista de Datos            $35,000  Mensual   \n",
              "2  Analista de datos                         NaN   \n",
              "3  Analista de datos  $13,000 - $13,300  Mensual   \n",
              "4  Analista de Datos                         NaN   \n",
              "5  ANALISTA DE DATOS    $8,500 - $9,000  Mensual   \n",
              "6  Analista de datos                         NaN   \n",
              "7  Analista de Datos    $7,500 - $8,500  Mensual   \n",
              "8  Analista de datos    $7,000 - $8,000  Mensual   \n",
              "9  ANALISTA DE DATOS            $12,000  Mensual   \n",
              "\n",
              "                             Company          Location  \n",
              "0         P3 IMPULSORES ESTRATEGICOS              CDMX  \n",
              "1          Corporativo Mek de México  Ciudad de México  \n",
              "2      FIDELITY MARKETING S.A DE C.V              CDMX  \n",
              "3  Universidad Tecnológica de México  Ciudad de México  \n",
              "4     Laboratorios Médicos del Chopo              CDMX  \n",
              "5        Conduent de México SA de CV             Chih.  \n",
              "6                            Banamex              CDMX  \n",
              "7            Grupo Comercial Control        Edo. Méx.​  \n",
              "8   Ediciones Larousse, S.A. de C.V.              CDMX  \n",
              "9                Auto Líneas América              Gto.  "
            ]
          },
          "execution_count": 622,
          "metadata": {},
          "output_type": "execute_result"
        }
      ],
      "source": [
        "# Data importation\n",
        "df_base = pd.read_csv('DataSet_Raw.csv')\n",
        "df_base.head(10)"
      ]
    },
    {
      "cell_type": "code",
      "execution_count": 623,
      "metadata": {
        "colab": {
          "base_uri": "https://localhost:8080/",
          "height": 363
        },
        "id": "C4lGoYaGcUlM",
        "outputId": "a1c13af0-162a-4f19-a7d2-ceb530a92291"
      },
      "outputs": [
        {
          "data": {
            "text/html": [
              "<div>\n",
              "<style scoped>\n",
              "    .dataframe tbody tr th:only-of-type {\n",
              "        vertical-align: middle;\n",
              "    }\n",
              "\n",
              "    .dataframe tbody tr th {\n",
              "        vertical-align: top;\n",
              "    }\n",
              "\n",
              "    .dataframe thead th {\n",
              "        text-align: right;\n",
              "    }\n",
              "</style>\n",
              "<table border=\"1\" class=\"dataframe\">\n",
              "  <thead>\n",
              "    <tr style=\"text-align: right;\">\n",
              "      <th></th>\n",
              "      <th>Job</th>\n",
              "      <th>Salary</th>\n",
              "      <th>Company</th>\n",
              "      <th>Location</th>\n",
              "    </tr>\n",
              "  </thead>\n",
              "  <tbody>\n",
              "    <tr>\n",
              "      <th>1269</th>\n",
              "      <td>VACANTEPAM - AB Initio Technical Leader</td>\n",
              "      <td>NaN</td>\n",
              "      <td>Banamex</td>\n",
              "      <td>Ciudad de México</td>\n",
              "    </tr>\n",
              "    <tr>\n",
              "      <th>1270</th>\n",
              "      <td>PAM Vacante IT Project Senior Analyst - C12</td>\n",
              "      <td>NaN</td>\n",
              "      <td>Banamex</td>\n",
              "      <td>Ciudad de México</td>\n",
              "    </tr>\n",
              "    <tr>\n",
              "      <th>1271</th>\n",
              "      <td>Tech Owner Content Management</td>\n",
              "      <td>NaN</td>\n",
              "      <td>Banamex</td>\n",
              "      <td>Ciudad de México</td>\n",
              "    </tr>\n",
              "    <tr>\n",
              "      <th>1272</th>\n",
              "      <td>Compl Product Sr Analyst</td>\n",
              "      <td>NaN</td>\n",
              "      <td>Banamex</td>\n",
              "      <td>Ciudad de México</td>\n",
              "    </tr>\n",
              "    <tr>\n",
              "      <th>1273</th>\n",
              "      <td>Testing Sr Analyst</td>\n",
              "      <td>NaN</td>\n",
              "      <td>Banamex</td>\n",
              "      <td>Ciudad de México</td>\n",
              "    </tr>\n",
              "    <tr>\n",
              "      <th>1274</th>\n",
              "      <td>Tech Lead CX Digital Wealth</td>\n",
              "      <td>NaN</td>\n",
              "      <td>Banamex</td>\n",
              "      <td>Ciudad de México</td>\n",
              "    </tr>\n",
              "    <tr>\n",
              "      <th>1275</th>\n",
              "      <td>Strategy Lead Analyst</td>\n",
              "      <td>NaN</td>\n",
              "      <td>Banamex</td>\n",
              "      <td>Ciudad de México</td>\n",
              "    </tr>\n",
              "    <tr>\n",
              "      <th>1276</th>\n",
              "      <td>Vacante PAM - Tech Lead &amp; Tech Owner</td>\n",
              "      <td>NaN</td>\n",
              "      <td>Banamex</td>\n",
              "      <td>Ciudad de México</td>\n",
              "    </tr>\n",
              "    <tr>\n",
              "      <th>1277</th>\n",
              "      <td>ComplAML KYC Analyst 2</td>\n",
              "      <td>NaN</td>\n",
              "      <td>Banamex</td>\n",
              "      <td>Ciudad de México</td>\n",
              "    </tr>\n",
              "    <tr>\n",
              "      <th>1278</th>\n",
              "      <td>Compl AML KYC Analyst 2</td>\n",
              "      <td>NaN</td>\n",
              "      <td>Banamex</td>\n",
              "      <td>México</td>\n",
              "    </tr>\n",
              "  </tbody>\n",
              "</table>\n",
              "</div>"
            ],
            "text/plain": [
              "                                              Job Salary  Company  \\\n",
              "1269      VACANTEPAM - AB Initio Technical Leader    NaN  Banamex   \n",
              "1270  PAM Vacante IT Project Senior Analyst - C12    NaN  Banamex   \n",
              "1271                Tech Owner Content Management    NaN  Banamex   \n",
              "1272                     Compl Product Sr Analyst    NaN  Banamex   \n",
              "1273                           Testing Sr Analyst    NaN  Banamex   \n",
              "1274                  Tech Lead CX Digital Wealth    NaN  Banamex   \n",
              "1275                        Strategy Lead Analyst    NaN  Banamex   \n",
              "1276         Vacante PAM - Tech Lead & Tech Owner    NaN  Banamex   \n",
              "1277                       ComplAML KYC Analyst 2    NaN  Banamex   \n",
              "1278                      Compl AML KYC Analyst 2    NaN  Banamex   \n",
              "\n",
              "              Location  \n",
              "1269  Ciudad de México  \n",
              "1270  Ciudad de México  \n",
              "1271  Ciudad de México  \n",
              "1272  Ciudad de México  \n",
              "1273  Ciudad de México  \n",
              "1274  Ciudad de México  \n",
              "1275  Ciudad de México  \n",
              "1276  Ciudad de México  \n",
              "1277  Ciudad de México  \n",
              "1278            México  "
            ]
          },
          "execution_count": 623,
          "metadata": {},
          "output_type": "execute_result"
        }
      ],
      "source": [
        "df_base.tail(10)"
      ]
    },
    {
      "cell_type": "markdown",
      "metadata": {
        "id": "8IKjOmjsaVNK"
      },
      "source": [
        "It can be observed that **data lacks consistency** in every variable. Some observations are in uppercase, some values are abbreviations, there is no salary value for each tuple, some observations do not correspond to data jobs, etc. Thus, it is necessary to clean the data. Nonetheless, some further exploration will be carried out to develop a more complete strategy for doing so."
      ]
    },
    {
      "cell_type": "code",
      "execution_count": 624,
      "metadata": {
        "colab": {
          "base_uri": "https://localhost:8080/"
        },
        "id": "JO4iO3ujaC68",
        "outputId": "b0178b9f-f79a-458d-bed1-8618c9b940b5"
      },
      "outputs": [
        {
          "data": {
            "text/plain": [
              "1279"
            ]
          },
          "execution_count": 624,
          "metadata": {},
          "output_type": "execute_result"
        }
      ],
      "source": [
        "# Number of observations\n",
        "len(df_base)"
      ]
    },
    {
      "cell_type": "code",
      "execution_count": 625,
      "metadata": {
        "colab": {
          "base_uri": "https://localhost:8080/"
        },
        "id": "Wu6D-6cUb5H1",
        "outputId": "7ad060c3-1366-43fe-f0ea-9d54343dfe3a"
      },
      "outputs": [
        {
          "name": "stdout",
          "output_type": "stream",
          "text": [
            "<class 'pandas.core.frame.DataFrame'>\n",
            "RangeIndex: 1279 entries, 0 to 1278\n",
            "Data columns (total 4 columns):\n",
            " #   Column    Non-Null Count  Dtype \n",
            "---  ------    --------------  ----- \n",
            " 0   Job       1279 non-null   object\n",
            " 1   Salary    482 non-null    object\n",
            " 2   Company   1130 non-null   object\n",
            " 3   Location  1279 non-null   object\n",
            "dtypes: object(4)\n",
            "memory usage: 40.1+ KB\n"
          ]
        }
      ],
      "source": [
        "# Basic dataset info\n",
        "df_base.info()"
      ]
    },
    {
      "cell_type": "markdown",
      "metadata": {
        "id": "lMUr6Hr7LWxd"
      },
      "source": [
        "From the results above it can be seen that the variables **Job** and **Location** do not exhibit null values, while **Company** and, most notably, **Salary** do. Indeed, it is a common practice in the Talent Recruitment field to not publishing the Salary of the vacancies, while in some cases the company offering the vacancy prefers to remain confidential."
      ]
    },
    {
      "cell_type": "code",
      "execution_count": 626,
      "metadata": {
        "colab": {
          "base_uri": "https://localhost:8080/",
          "height": 175
        },
        "id": "6vbcKBPhcEyW",
        "outputId": "fbe0afeb-ff18-4582-b7cd-f82b3421b2a6"
      },
      "outputs": [
        {
          "data": {
            "text/html": [
              "<div>\n",
              "<style scoped>\n",
              "    .dataframe tbody tr th:only-of-type {\n",
              "        vertical-align: middle;\n",
              "    }\n",
              "\n",
              "    .dataframe tbody tr th {\n",
              "        vertical-align: top;\n",
              "    }\n",
              "\n",
              "    .dataframe thead th {\n",
              "        text-align: right;\n",
              "    }\n",
              "</style>\n",
              "<table border=\"1\" class=\"dataframe\">\n",
              "  <thead>\n",
              "    <tr style=\"text-align: right;\">\n",
              "      <th></th>\n",
              "      <th>Job</th>\n",
              "      <th>Salary</th>\n",
              "      <th>Company</th>\n",
              "      <th>Location</th>\n",
              "    </tr>\n",
              "  </thead>\n",
              "  <tbody>\n",
              "    <tr>\n",
              "      <th>count</th>\n",
              "      <td>1279</td>\n",
              "      <td>482</td>\n",
              "      <td>1130</td>\n",
              "      <td>1279</td>\n",
              "    </tr>\n",
              "    <tr>\n",
              "      <th>unique</th>\n",
              "      <td>910</td>\n",
              "      <td>223</td>\n",
              "      <td>423</td>\n",
              "      <td>36</td>\n",
              "    </tr>\n",
              "    <tr>\n",
              "      <th>top</th>\n",
              "      <td>Business analyst</td>\n",
              "      <td>$40,000 - $50,000  Mensual</td>\n",
              "      <td>Banamex</td>\n",
              "      <td>Ciudad de México</td>\n",
              "    </tr>\n",
              "    <tr>\n",
              "      <th>freq</th>\n",
              "      <td>20</td>\n",
              "      <td>15</td>\n",
              "      <td>250</td>\n",
              "      <td>465</td>\n",
              "    </tr>\n",
              "  </tbody>\n",
              "</table>\n",
              "</div>"
            ],
            "text/plain": [
              "                     Job                      Salary  Company  \\\n",
              "count               1279                         482     1130   \n",
              "unique               910                         223      423   \n",
              "top     Business analyst  $40,000 - $50,000  Mensual  Banamex   \n",
              "freq                  20                          15      250   \n",
              "\n",
              "                Location  \n",
              "count               1279  \n",
              "unique                36  \n",
              "top     Ciudad de México  \n",
              "freq                 465  "
            ]
          },
          "execution_count": 626,
          "metadata": {},
          "output_type": "execute_result"
        }
      ],
      "source": [
        "# Basic dataset description\n",
        "df_base.describe()"
      ]
    },
    {
      "cell_type": "code",
      "execution_count": 627,
      "metadata": {
        "colab": {
          "base_uri": "https://localhost:8080/"
        },
        "id": "nhYOi2Lqd6m-",
        "outputId": "b9229603-064e-4240-f85f-b71358daa454"
      },
      "outputs": [
        {
          "data": {
            "text/plain": [
              "Job                                                   \n",
              "Business analyst                                          20\n",
              "Analista de datos                                         17\n",
              "Data Engineer                                             15\n",
              "Data engineer                                             13\n",
              "Data analyst                                              13\n",
              "                                                          ..\n",
              "Business Analyst - Diseño UX                               1\n",
              "Business Analyst - Polanco, Ciudad de México  (Amazon)     1\n",
              "Business Analyst / Bilingüe - Remoto                       1\n",
              "Business Analyst / QA Tester                               1\n",
              "• Order Entry /Data Entry Analyst                          1\n",
              "Length: 910, dtype: int64"
            ]
          },
          "execution_count": 627,
          "metadata": {},
          "output_type": "execute_result"
        }
      ],
      "source": [
        "# Value counts for each job position\n",
        "df_base[['Job']].value_counts()"
      ]
    },
    {
      "cell_type": "markdown",
      "metadata": {
        "id": "8N3EPAVCe5oO"
      },
      "source": [
        "910 different positions titles are present in the data set, while only 5 are required!\n",
        "\n",
        "On the other hand, the position of **_Business analyst_** appears to be the most demanded."
      ]
    },
    {
      "cell_type": "code",
      "execution_count": 628,
      "metadata": {
        "colab": {
          "base_uri": "https://localhost:8080/",
          "height": 485
        },
        "id": "k2gi8lidmvHG",
        "outputId": "a9eaf2b1-bd58-4e14-81b8-f314d75fe80f"
      },
      "outputs": [
        {
          "name": "stderr",
          "output_type": "stream",
          "text": [
            "C:\\Users\\DanielEduardo.Eduardo\\AppData\\Local\\Temp\\ipykernel_9888\\2987296090.py:4: MatplotlibDeprecationWarning: Support for passing numbers through unit converters is deprecated since 3.5 and support will be removed two minor releases later; use Axis.convert_units instead.\n",
            "  plt.xticks([])\n"
          ]
        },
        {
          "data": {
            "image/png": "[encoded data removed]",
            "text/plain": [
              "<Figure size 1080x576 with 1 Axes>"
            ]
          },
          "metadata": {},
          "output_type": "display_data"
        }
      ],
      "source": [
        "# Visual exploration of the Job variable\n",
        "fig, ax = plt.subplots(figsize = (15, 8))\n",
        "sns.scatterplot(x = df_base['Job'].unique(), y= df_base['Job'].value_counts(), color=\"Green\", alpha = 0.9)\n",
        "plt.xticks([])\n",
        "plt.yticks(list(range(1,21)))\n",
        "plt.xlabel('Job Title', fontsize=15, fontweight='bold')\n",
        "plt.ylabel('Frequency', fontsize=15, fontweight='bold')\n",
        "plt.show()"
      ]
    },
    {
      "cell_type": "markdown",
      "metadata": {
        "id": "q1zLBKHWJ02G"
      },
      "source": [
        "The plot above shows that the largest part of the job titles retrieved from the web scraping are **unique values**. Thus, this suggests that the job titles variable is fairly inconsistent and/or it exhibits a lot of other positions which are not of interest for this study."
      ]
    },
    {
      "cell_type": "code",
      "execution_count": 629,
      "metadata": {
        "colab": {
          "base_uri": "https://localhost:8080/",
          "height": 502
        },
        "id": "gwpsxSr4foFe",
        "outputId": "5d6dcbcd-e70a-4cdb-ff7a-4ab272616e25"
      },
      "outputs": [
        {
          "data": {
            "image/png": "[encoded data removed]",
            "text/plain": [
              "<Figure size 360x576 with 1 Axes>"
            ]
          },
          "metadata": {},
          "output_type": "display_data"
        }
      ],
      "source": [
        "# Visual exploration of the Location variable\n",
        "fig, ax = plt.subplots(figsize = (5, 8))\n",
        "sns.barplot(x = df_base['Location'].value_counts(), y= df_base['Location'].unique(), palette=\"Blues_r\", alpha = 0.9)\n",
        "plt.xlabel('Frequency', fontsize=15, fontweight='bold')\n",
        "plt.ylabel('State', fontsize=15, fontweight='bold')\n",
        "plt.show()"
      ]
    },
    {
      "cell_type": "markdown",
      "metadata": {
        "id": "EiHmKVqcf6uH"
      },
      "source": [
        "Some states appear with its full name and some with its abbreviation. Furthermore, some states such as Ciudad de México or Estado de México appear twice or trize due to different spellings.\n",
        "\n",
        "Notwithstanding with the above, it is clear that **Ciudad de México (Mexico City)** is the location where **the most data jobs are demanded**."
      ]
    },
    {
      "cell_type": "code",
      "execution_count": 630,
      "metadata": {
        "colab": {
          "base_uri": "https://localhost:8080/"
        },
        "id": "iRyA6cD9pC-Y",
        "outputId": "8579b494-dc03-414a-b425-89f0f855ac30"
      },
      "outputs": [
        {
          "data": {
            "text/plain": [
              "Banamex                                  250\n",
              "Grupo Salinas                             37\n",
              "UVI TECH SAPI DE CV                       23\n",
              "Softtek                                   22\n",
              "BBVA Bancomer                             17\n",
              "                                        ... \n",
              "FACTOR X CHATBOT FACTORY SC                1\n",
              "Proveedora de Seguridad Industrial...      1\n",
              "Probiomed, S.A. de C.V.                    1\n",
              "Grupo Comrap Administraciones              1\n",
              "Servicios y Productos Empresariale...      1\n",
              "Name: Company, Length: 423, dtype: int64"
            ]
          },
          "execution_count": 630,
          "metadata": {},
          "output_type": "execute_result"
        }
      ],
      "source": [
        "# Value counts for each company\n",
        "df_base['Company'].value_counts()"
      ]
    },
    {
      "cell_type": "markdown",
      "metadata": {
        "id": "5ixPf-fnvBQ2"
      },
      "source": [
        "By far, **_Banamex_** is the company with **the highest number of data jobs vacancies**. It is followed by **_Grupo Salinas_**, **_UVI TECH SAPI DE CV_** and **_Softtek_**."
      ]
    },
    {
      "cell_type": "code",
      "execution_count": 631,
      "metadata": {
        "colab": {
          "base_uri": "https://localhost:8080/",
          "height": 485
        },
        "id": "Yrk7Jng0gxKh",
        "outputId": "37ac6823-94b1-4403-9c95-6bc2bb3d7a36"
      },
      "outputs": [
        {
          "name": "stderr",
          "output_type": "stream",
          "text": [
            "C:\\Users\\DanielEduardo.Eduardo\\AppData\\Local\\Temp\\ipykernel_9888\\768674578.py:4: MatplotlibDeprecationWarning: Support for passing numbers through unit converters is deprecated since 3.5 and support will be removed two minor releases later; use Axis.convert_units instead.\n",
            "  plt.xticks([])\n"
          ]
        },
        {
          "data": {
            "image/png": "[encoded data removed]",
            "text/plain": [
              "<Figure size 1080x576 with 1 Axes>"
            ]
          },
          "metadata": {},
          "output_type": "display_data"
        }
      ],
      "source": [
        "# Visual exploration of the Company variable\n",
        "fig, ax = plt.subplots(figsize = (15, 8))\n",
        "sns.scatterplot(x = df_base['Company'].value_counts().keys(), y= df_base['Company'].value_counts(), color=\"Salmon\", alpha = 0.9)\n",
        "plt.xticks([])\n",
        "plt.xlabel('Company', fontsize=15, fontweight='bold')\n",
        "plt.ylabel('Frequency', fontsize=15, fontweight='bold')\n",
        "plt.show()"
      ]
    },
    {
      "cell_type": "markdown",
      "metadata": {
        "id": "lRbtelGTNzTN"
      },
      "source": [
        "The plot above shows that most companies only offer **one or two** data-related positions."
      ]
    },
    {
      "cell_type": "code",
      "execution_count": 632,
      "metadata": {
        "colab": {
          "base_uri": "https://localhost:8080/"
        },
        "id": "fSbQ2En6opGk",
        "outputId": "f4792c2e-2d5a-4fb0-ce0d-c000e5d64928"
      },
      "outputs": [
        {
          "data": {
            "text/plain": [
              "$40,000 - $50,000  Mensual    15\n",
              "$30,000 - $35,000  Mensual    12\n",
              "$25,000 - $28,000  Mensual    11\n",
              "$30,000 - $40,000  Mensual     9\n",
              "$18,000  Mensual               9\n",
              "                              ..\n",
              "$6,500  Mensual                1\n",
              "$12,999 - $13,000  Mensual     1\n",
              "$11,582  Mensual               1\n",
              "$13,500 - $17,000  Mensual     1\n",
              "$19,000 - $22,000  Mensual     1\n",
              "Name: Salary, Length: 223, dtype: int64"
            ]
          },
          "execution_count": 632,
          "metadata": {},
          "output_type": "execute_result"
        }
      ],
      "source": [
        "# Value counts for each Salary\n",
        "df_base['Salary'].value_counts()"
      ]
    },
    {
      "cell_type": "markdown",
      "metadata": {
        "id": "-A9zH9BRrzyX"
      },
      "source": [
        "Obviously, firstly is necessary to clean the data in order to get more meaningful insights regarding the salary. However, it is noteworthy that most of the published vacancies offer a salary range rather than a single value. On the other hand, the periodicity of the payment (\"Mensual\") must be removed from all observations.\n",
        "\n",
        "On the other hand, it \"appears\" that the salary range from **40,000 MXN to 50,000 MXN** is the most common, which is probably not accurate due to the fact that the salary variable is a string instad of actual numbers."
      ]
    },
    {
      "cell_type": "markdown",
      "metadata": {
        "id": "riEO0fYhqL12"
      },
      "source": [
        "### **2. Data Cleaning and Wrangling**\n",
        "___\n",
        "From the raw data obtained through web scraping, it has been noticed that much of the vacancies published lack of salary data. However, those positions without said data might be useful for assessing the geographical distribution of the data jobs in Mexico as well as identiying which companies demand more data specialists even if they have not published a proposed salary.\n",
        "\n",
        "In this context, two datasets were built:\n",
        "1. One without salary data.\n",
        "2. One with positions with fully disclosed salary information.\n",
        "\n",
        "Thus, the base dataset was cleaned as a whole (dataset 1) and, then, the observations without salary data were dropped (dataset 2)."
      ]
    },
    {
      "cell_type": "code",
      "execution_count": 633,
      "metadata": {
        "id": "tZM2jO79kfbz"
      },
      "outputs": [],
      "source": [
        "# First, let's make a copy of the data frame\n",
        "df = df_base.copy()"
      ]
    },
    {
      "cell_type": "code",
      "execution_count": 634,
      "metadata": {},
      "outputs": [
        {
          "name": "stdout",
          "output_type": "stream",
          "text": [
            "<class 'pandas.core.frame.DataFrame'>\n",
            "Int64Index: 1098 entries, 0 to 1278\n",
            "Data columns (total 4 columns):\n",
            " #   Column    Non-Null Count  Dtype \n",
            "---  ------    --------------  ----- \n",
            " 0   Job       1098 non-null   object\n",
            " 1   Salary    433 non-null    object\n",
            " 2   Company   959 non-null    object\n",
            " 3   Location  1098 non-null   object\n",
            "dtypes: object(4)\n",
            "memory usage: 42.9+ KB\n"
          ]
        }
      ],
      "source": [
        "# Drop of duplicates\n",
        "df = df.drop_duplicates()\n",
        "df.info()"
      ]
    },
    {
      "cell_type": "markdown",
      "metadata": {},
      "source": [
        "#### **2.1 Cleaning of the variable 'Job'**\n",
        "\n",
        "This section shows the process carried out to harmonize the job titles of the data-related positions and the drop of non data-related jobs."
      ]
    },
    {
      "cell_type": "code",
      "execution_count": 635,
      "metadata": {},
      "outputs": [],
      "source": [
        "# Creating job dictionary\n",
        "job_dict = {\n",
        "    ('data', 'analyst'): \"Data Analyst\",\n",
        "    ('analista', 'datos'): \"Data Analyst\",\n",
        "\n",
        "    ('data', 'scientist'): \"Data Scientist\",\n",
        "    ('científico', 'datos'): \"Data Scientist\",\n",
        "    ('cientifico', 'datos'): \"Data Scientist\",\n",
        "\n",
        "    ('data', 'engineer'): \"Data Engineer\",\n",
        "    ('ingeniero', 'datos'): \"Data Engineer\",\n",
        "\n",
        "    ('business', 'analyst'): \"Business Analyst\",\n",
        "    ('analista', 'negocio'): \"Business Analyst\",\n",
        "    \n",
        "    ('data', 'architect'): \"Data Architect\",\n",
        "    ('arquitecto', 'datos'): \"Data Architect\"\n",
        "}"
      ]
    },
    {
      "cell_type": "code",
      "execution_count": 636,
      "metadata": {
        "colab": {
          "base_uri": "https://localhost:8080/"
        },
        "id": "eLHE5pO62qBf",
        "outputId": "0ddf2e8a-f075-40ba-c7cd-ba40959fbe01"
      },
      "outputs": [
        {
          "data": {
            "text/plain": [
              "True"
            ]
          },
          "execution_count": 636,
          "metadata": {},
          "output_type": "execute_result"
        }
      ],
      "source": [
        "# Proof of concept\n",
        "list(job_dict.keys())[0][0] in 'data analyst' and list(job_dict.keys())[0][1] in 'data analyst'"
      ]
    },
    {
      "cell_type": "code",
      "execution_count": 637,
      "metadata": {
        "colab": {
          "base_uri": "https://localhost:8080/",
          "height": 206
        },
        "id": "1xu4y6012eVf",
        "outputId": "e7e5aea9-fdcf-4409-9992-1d8bd110e4fb"
      },
      "outputs": [],
      "source": [
        "# Conversion of job observations to lower case\n",
        "df['Job'] = df['Job'].str.casefold()"
      ]
    },
    {
      "cell_type": "code",
      "execution_count": 638,
      "metadata": {
        "colab": {
          "base_uri": "https://localhost:8080/",
          "height": 345
        },
        "id": "qnYBrWJx5Dqu",
        "outputId": "b651075e-3fb1-41f2-fdc5-13040f5ae056"
      },
      "outputs": [
        {
          "data": {
            "text/html": [
              "<div>\n",
              "<style scoped>\n",
              "    .dataframe tbody tr th:only-of-type {\n",
              "        vertical-align: middle;\n",
              "    }\n",
              "\n",
              "    .dataframe tbody tr th {\n",
              "        vertical-align: top;\n",
              "    }\n",
              "\n",
              "    .dataframe thead th {\n",
              "        text-align: right;\n",
              "    }\n",
              "</style>\n",
              "<table border=\"1\" class=\"dataframe\">\n",
              "  <thead>\n",
              "    <tr style=\"text-align: right;\">\n",
              "      <th></th>\n",
              "      <th>Job</th>\n",
              "      <th>Salary</th>\n",
              "      <th>Company</th>\n",
              "      <th>Location</th>\n",
              "    </tr>\n",
              "  </thead>\n",
              "  <tbody>\n",
              "    <tr>\n",
              "      <th>0</th>\n",
              "      <td>Data Analyst</td>\n",
              "      <td>$47,000 - $53,000  Mensual</td>\n",
              "      <td>P3 IMPULSORES ESTRATEGICOS</td>\n",
              "      <td>CDMX</td>\n",
              "    </tr>\n",
              "    <tr>\n",
              "      <th>1</th>\n",
              "      <td>Data Analyst</td>\n",
              "      <td>$35,000  Mensual</td>\n",
              "      <td>Corporativo Mek de México</td>\n",
              "      <td>Ciudad de México</td>\n",
              "    </tr>\n",
              "    <tr>\n",
              "      <th>2</th>\n",
              "      <td>Data Analyst</td>\n",
              "      <td>NaN</td>\n",
              "      <td>FIDELITY MARKETING S.A DE C.V</td>\n",
              "      <td>CDMX</td>\n",
              "    </tr>\n",
              "    <tr>\n",
              "      <th>3</th>\n",
              "      <td>Data Analyst</td>\n",
              "      <td>$13,000 - $13,300  Mensual</td>\n",
              "      <td>Universidad Tecnológica de México</td>\n",
              "      <td>Ciudad de México</td>\n",
              "    </tr>\n",
              "    <tr>\n",
              "      <th>4</th>\n",
              "      <td>Data Analyst</td>\n",
              "      <td>NaN</td>\n",
              "      <td>Laboratorios Médicos del Chopo</td>\n",
              "      <td>CDMX</td>\n",
              "    </tr>\n",
              "    <tr>\n",
              "      <th>5</th>\n",
              "      <td>Data Analyst</td>\n",
              "      <td>$8,500 - $9,000  Mensual</td>\n",
              "      <td>Conduent de México SA de CV</td>\n",
              "      <td>Chih.</td>\n",
              "    </tr>\n",
              "    <tr>\n",
              "      <th>6</th>\n",
              "      <td>Data Analyst</td>\n",
              "      <td>NaN</td>\n",
              "      <td>Banamex</td>\n",
              "      <td>CDMX</td>\n",
              "    </tr>\n",
              "    <tr>\n",
              "      <th>7</th>\n",
              "      <td>Data Analyst</td>\n",
              "      <td>$7,500 - $8,500  Mensual</td>\n",
              "      <td>Grupo Comercial Control</td>\n",
              "      <td>Edo. Méx.​</td>\n",
              "    </tr>\n",
              "    <tr>\n",
              "      <th>8</th>\n",
              "      <td>Data Analyst</td>\n",
              "      <td>$7,000 - $8,000  Mensual</td>\n",
              "      <td>Ediciones Larousse, S.A. de C.V.</td>\n",
              "      <td>CDMX</td>\n",
              "    </tr>\n",
              "    <tr>\n",
              "      <th>9</th>\n",
              "      <td>Data Analyst</td>\n",
              "      <td>$12,000  Mensual</td>\n",
              "      <td>Auto Líneas América</td>\n",
              "      <td>Gto.</td>\n",
              "    </tr>\n",
              "  </tbody>\n",
              "</table>\n",
              "</div>"
            ],
            "text/plain": [
              "            Job                      Salary  \\\n",
              "0  Data Analyst  $47,000 - $53,000  Mensual   \n",
              "1  Data Analyst            $35,000  Mensual   \n",
              "2  Data Analyst                         NaN   \n",
              "3  Data Analyst  $13,000 - $13,300  Mensual   \n",
              "4  Data Analyst                         NaN   \n",
              "5  Data Analyst    $8,500 - $9,000  Mensual   \n",
              "6  Data Analyst                         NaN   \n",
              "7  Data Analyst    $7,500 - $8,500  Mensual   \n",
              "8  Data Analyst    $7,000 - $8,000  Mensual   \n",
              "9  Data Analyst            $12,000  Mensual   \n",
              "\n",
              "                             Company          Location  \n",
              "0         P3 IMPULSORES ESTRATEGICOS              CDMX  \n",
              "1          Corporativo Mek de México  Ciudad de México  \n",
              "2      FIDELITY MARKETING S.A DE C.V              CDMX  \n",
              "3  Universidad Tecnológica de México  Ciudad de México  \n",
              "4     Laboratorios Médicos del Chopo              CDMX  \n",
              "5        Conduent de México SA de CV             Chih.  \n",
              "6                            Banamex              CDMX  \n",
              "7            Grupo Comercial Control        Edo. Méx.​  \n",
              "8   Ediciones Larousse, S.A. de C.V.              CDMX  \n",
              "9                Auto Líneas América              Gto.  "
            ]
          },
          "execution_count": 638,
          "metadata": {},
          "output_type": "execute_result"
        }
      ],
      "source": [
        "# Cleaning of the variable Job\n",
        "for i in range(len(job_dict)):\n",
        "    df['Job'] = df['Job'].map(lambda x: list(job_dict.values())[i] if (list(job_dict.keys())[i][0] in x and list(job_dict.keys())[i][1] in x) else x)\n",
        "\n",
        "df.head(10)"
      ]
    },
    {
      "cell_type": "code",
      "execution_count": 639,
      "metadata": {},
      "outputs": [
        {
          "data": {
            "image/png": "[encoded data removed]",
            "text/plain": [
              "<Figure size 720x432 with 1 Axes>"
            ]
          },
          "metadata": {},
          "output_type": "display_data"
        }
      ],
      "source": [
        "# Visual exploration of the pre-cleaned Job variable (first 15 positions)\n",
        "fig, ax = plt.subplots(figsize = (10, 6))\n",
        "sns.barplot(x = df['Job'].value_counts()[:15], y= df['Job'].value_counts().keys()[:15], palette=\"viridis\", alpha = 0.9)\n",
        "plt.title('First 15 Job Titles by Frequency', fontsize=15, fontweight='bold')\n",
        "plt.xlabel('Frequency', fontsize=15, fontweight='bold')\n",
        "plt.ylabel('Job Title', fontsize=15, fontweight='bold')\n",
        "plt.show()\n"
      ]
    },
    {
      "cell_type": "markdown",
      "metadata": {},
      "source": [
        "In the plot above it is possible to observe:\n",
        "1. The job titles for the data-related positions have been successfully harmonized and they conform the majority of the observations in the dataset\n",
        "2. Along with the data positions, there is significant number of other non data-related positions. So, the latter will be removed from the dataset."
      ]
    },
    {
      "cell_type": "code",
      "execution_count": 640,
      "metadata": {},
      "outputs": [
        {
          "data": {
            "text/plain": [
              "Data Analyst        194\n",
              "Business Analyst    140\n",
              "Data Engineer       110\n",
              "Data Scientist       51\n",
              "Data Architect       16\n",
              "Name: Job, dtype: int64"
            ]
          },
          "execution_count": 640,
          "metadata": {},
          "output_type": "execute_result"
        }
      ],
      "source": [
        "# Drop of observations not corresponding to Data Jobs\n",
        "df = df.loc[(df['Job'] == 'Data Analyst') | (df['Job'] == 'Business Analyst') | (df['Job'] == 'Data Engineer') | (df['Job'] == 'Data Scientist') | (df['Job'] == 'Data Architect')]\n",
        "df['Job'].value_counts()"
      ]
    },
    {
      "cell_type": "code",
      "execution_count": 641,
      "metadata": {},
      "outputs": [
        {
          "name": "stdout",
          "output_type": "stream",
          "text": [
            "<class 'pandas.core.frame.DataFrame'>\n",
            "Int64Index: 511 entries, 0 to 1243\n",
            "Data columns (total 4 columns):\n",
            " #   Column    Non-Null Count  Dtype \n",
            "---  ------    --------------  ----- \n",
            " 0   Job       511 non-null    object\n",
            " 1   Salary    221 non-null    object\n",
            " 2   Company   445 non-null    object\n",
            " 3   Location  511 non-null    object\n",
            "dtypes: object(4)\n",
            "memory usage: 20.0+ KB\n"
          ]
        }
      ],
      "source": [
        "# Resulting number of observations\n",
        "df.info()"
      ]
    },
    {
      "cell_type": "code",
      "execution_count": 642,
      "metadata": {},
      "outputs": [
        {
          "data": {
            "image/png": "[encoded data removed]",
            "text/plain": [
              "<Figure size 576x288 with 1 Axes>"
            ]
          },
          "metadata": {},
          "output_type": "display_data"
        }
      ],
      "source": [
        "# Visual exploration of the cleaned Job variable (first 15 positions)\n",
        "fig, ax = plt.subplots(figsize = (8, 4))\n",
        "sns.barplot(x = df['Job'].value_counts()[:15], y= df['Job'].value_counts().keys()[:15], palette=\"gnuplot2\", alpha = 0.7)\n",
        "plt.title('Frequency per Job Title', fontsize=15, fontweight='bold')\n",
        "plt.xlabel('Frequency', fontsize=15, fontweight='bold')\n",
        "plt.ylabel('Job Title', fontsize=15, fontweight='bold')\n",
        "plt.show()"
      ]
    },
    {
      "cell_type": "markdown",
      "metadata": {},
      "source": [
        "From the plot above, it is possible to see that the variable **Job**  has been successfully cleaned as data-related jobs are the only observations in the data set and their job titles are consistent."
      ]
    },
    {
      "cell_type": "markdown",
      "metadata": {},
      "source": [
        "#### **2.2 Cleaning of the variable 'Company'**\n",
        "\n",
        "This section shows the process carried out to provide consistency to the letter case in the company names of the retrieved data."
      ]
    },
    {
      "cell_type": "code",
      "execution_count": 643,
      "metadata": {},
      "outputs": [
        {
          "data": {
            "text/html": [
              "<div>\n",
              "<style scoped>\n",
              "    .dataframe tbody tr th:only-of-type {\n",
              "        vertical-align: middle;\n",
              "    }\n",
              "\n",
              "    .dataframe tbody tr th {\n",
              "        vertical-align: top;\n",
              "    }\n",
              "\n",
              "    .dataframe thead th {\n",
              "        text-align: right;\n",
              "    }\n",
              "</style>\n",
              "<table border=\"1\" class=\"dataframe\">\n",
              "  <thead>\n",
              "    <tr style=\"text-align: right;\">\n",
              "      <th></th>\n",
              "      <th>Job</th>\n",
              "      <th>Salary</th>\n",
              "      <th>Company</th>\n",
              "      <th>Location</th>\n",
              "    </tr>\n",
              "  </thead>\n",
              "  <tbody>\n",
              "    <tr>\n",
              "      <th>0</th>\n",
              "      <td>Data Analyst</td>\n",
              "      <td>$47,000 - $53,000  Mensual</td>\n",
              "      <td>P3 Impulsores Estrategicos</td>\n",
              "      <td>CDMX</td>\n",
              "    </tr>\n",
              "    <tr>\n",
              "      <th>1</th>\n",
              "      <td>Data Analyst</td>\n",
              "      <td>$35,000  Mensual</td>\n",
              "      <td>Corporativo Mek De México</td>\n",
              "      <td>Ciudad de México</td>\n",
              "    </tr>\n",
              "    <tr>\n",
              "      <th>2</th>\n",
              "      <td>Data Analyst</td>\n",
              "      <td>NaN</td>\n",
              "      <td>Fidelity Marketing S.A De C.V</td>\n",
              "      <td>CDMX</td>\n",
              "    </tr>\n",
              "    <tr>\n",
              "      <th>3</th>\n",
              "      <td>Data Analyst</td>\n",
              "      <td>$13,000 - $13,300  Mensual</td>\n",
              "      <td>Universidad Tecnológica De México</td>\n",
              "      <td>Ciudad de México</td>\n",
              "    </tr>\n",
              "    <tr>\n",
              "      <th>4</th>\n",
              "      <td>Data Analyst</td>\n",
              "      <td>NaN</td>\n",
              "      <td>Laboratorios Médicos Del Chopo</td>\n",
              "      <td>CDMX</td>\n",
              "    </tr>\n",
              "    <tr>\n",
              "      <th>5</th>\n",
              "      <td>Data Analyst</td>\n",
              "      <td>$8,500 - $9,000  Mensual</td>\n",
              "      <td>Conduent De México Sa De Cv</td>\n",
              "      <td>Chih.</td>\n",
              "    </tr>\n",
              "    <tr>\n",
              "      <th>6</th>\n",
              "      <td>Data Analyst</td>\n",
              "      <td>NaN</td>\n",
              "      <td>Banamex</td>\n",
              "      <td>CDMX</td>\n",
              "    </tr>\n",
              "    <tr>\n",
              "      <th>7</th>\n",
              "      <td>Data Analyst</td>\n",
              "      <td>$7,500 - $8,500  Mensual</td>\n",
              "      <td>Grupo Comercial Control</td>\n",
              "      <td>Edo. Méx.​</td>\n",
              "    </tr>\n",
              "    <tr>\n",
              "      <th>8</th>\n",
              "      <td>Data Analyst</td>\n",
              "      <td>$7,000 - $8,000  Mensual</td>\n",
              "      <td>Ediciones Larousse, S.A. De C.V.</td>\n",
              "      <td>CDMX</td>\n",
              "    </tr>\n",
              "    <tr>\n",
              "      <th>9</th>\n",
              "      <td>Data Analyst</td>\n",
              "      <td>$12,000  Mensual</td>\n",
              "      <td>Auto Líneas América</td>\n",
              "      <td>Gto.</td>\n",
              "    </tr>\n",
              "  </tbody>\n",
              "</table>\n",
              "</div>"
            ],
            "text/plain": [
              "            Job                      Salary  \\\n",
              "0  Data Analyst  $47,000 - $53,000  Mensual   \n",
              "1  Data Analyst            $35,000  Mensual   \n",
              "2  Data Analyst                         NaN   \n",
              "3  Data Analyst  $13,000 - $13,300  Mensual   \n",
              "4  Data Analyst                         NaN   \n",
              "5  Data Analyst    $8,500 - $9,000  Mensual   \n",
              "6  Data Analyst                         NaN   \n",
              "7  Data Analyst    $7,500 - $8,500  Mensual   \n",
              "8  Data Analyst    $7,000 - $8,000  Mensual   \n",
              "9  Data Analyst            $12,000  Mensual   \n",
              "\n",
              "                             Company          Location  \n",
              "0         P3 Impulsores Estrategicos              CDMX  \n",
              "1          Corporativo Mek De México  Ciudad de México  \n",
              "2      Fidelity Marketing S.A De C.V              CDMX  \n",
              "3  Universidad Tecnológica De México  Ciudad de México  \n",
              "4     Laboratorios Médicos Del Chopo              CDMX  \n",
              "5        Conduent De México Sa De Cv             Chih.  \n",
              "6                            Banamex              CDMX  \n",
              "7            Grupo Comercial Control        Edo. Méx.​  \n",
              "8   Ediciones Larousse, S.A. De C.V.              CDMX  \n",
              "9                Auto Líneas América              Gto.  "
            ]
          },
          "execution_count": 643,
          "metadata": {},
          "output_type": "execute_result"
        }
      ],
      "source": [
        "# Cleaning of the Company variable\n",
        "df = df.dropna(subset = 'Company')\n",
        "df['Company'] = df['Company'].map(lambda x: str.title(str(x)))\n",
        "df.head(10)"
      ]
    },
    {
      "cell_type": "code",
      "execution_count": 644,
      "metadata": {},
      "outputs": [
        {
          "data": {
            "image/png": "[encoded data removed]",
            "text/plain": [
              "<Figure size 360x576 with 1 Axes>"
            ]
          },
          "metadata": {},
          "output_type": "display_data"
        }
      ],
      "source": [
        "# Visual exploration of the cleaned Company variable\n",
        "fig, ax = plt.subplots(figsize = (5, 8))\n",
        "sns.barplot(x = df['Company'].value_counts()[:15], y= df['Company'].value_counts().keys()[:15], palette=\"prism_r\", alpha = 0.8)\n",
        "plt.title('Top 15 Companies Offering Data Jobs', fontsize=15, fontweight='bold')\n",
        "plt.xlabel('Frequency', fontsize=15, fontweight='bold')\n",
        "plt.ylabel('Company', fontsize=15, fontweight='bold')\n",
        "plt.show()"
      ]
    },
    {
      "cell_type": "markdown",
      "metadata": {},
      "source": [
        "The plot above suggests that the letter case of the different company names is now consistent. So, it is deemed that the variable **Company** has been successfully cleaned."
      ]
    },
    {
      "cell_type": "markdown",
      "metadata": {},
      "source": [
        "#### **2.3 Cleaning of the variable 'Location'**\n",
        "\n",
        "This section shows the process carried out to harmonize the name of the Mexican States in which the data-related positions are demanded."
      ]
    },
    {
      "cell_type": "code",
      "execution_count": 645,
      "metadata": {
        "id": "8a2ZKO2TprLS"
      },
      "outputs": [],
      "source": [
        "# Dictionary with the retrieved Location values\n",
        "location_dict = {\n",
        "    'CDMX': 'Ciudad de México',\n",
        "    'Chih.': 'Chihuahua',\n",
        "    'Edo. Méx.​': 'Estado de México',\n",
        "    'Gto.': 'Guanajuato',\n",
        "    'Jal.': 'Jalisco',\n",
        "    'Q. Roo': 'Quintana Roo',\n",
        "    'N. L.': 'Nuevo León',\n",
        "    'N.L.': 'Nuevo León',\n",
        "    'Pue.': 'Puebla',\n",
        "    'México': 'Estado de México',\n",
        "    'Zac.': 'Zacatecas',\n",
        "    'Tamps.': 'Tamaulipas',\n",
        "    'Mor.': 'Morelos',\n",
        "    'Sin.': 'Sinaloa',\n",
        "    'Oax.': 'Oaxaca',\n",
        "    'Qro.': 'Querétaro',\n",
        "    'Mich.': 'Michoacán',\n",
        "    'Son.': 'Sonora',\n",
        "    'BC.': 'Baja California',\n",
        "    'SLP.': 'San Luis Potosí',\n",
        "    'Yuc.': 'Yucatán',\n",
        "    'Coah.': 'Coahuila',\n",
        "    'BCS.': 'Baja California Sur',\n",
        "    'Nay.': 'Nayarit',\n",
        "    'Ags.': 'Aguascalientes'\n",
        "    }"
      ]
    },
    {
      "cell_type": "code",
      "execution_count": 646,
      "metadata": {
        "colab": {
          "base_uri": "https://localhost:8080/",
          "height": 363
        },
        "id": "ltOqntSXqOv9",
        "outputId": "673b548a-8360-430c-af95-9f118f51606d"
      },
      "outputs": [
        {
          "data": {
            "text/html": [
              "<div>\n",
              "<style scoped>\n",
              "    .dataframe tbody tr th:only-of-type {\n",
              "        vertical-align: middle;\n",
              "    }\n",
              "\n",
              "    .dataframe tbody tr th {\n",
              "        vertical-align: top;\n",
              "    }\n",
              "\n",
              "    .dataframe thead th {\n",
              "        text-align: right;\n",
              "    }\n",
              "</style>\n",
              "<table border=\"1\" class=\"dataframe\">\n",
              "  <thead>\n",
              "    <tr style=\"text-align: right;\">\n",
              "      <th></th>\n",
              "      <th>Job</th>\n",
              "      <th>Salary</th>\n",
              "      <th>Company</th>\n",
              "      <th>Location</th>\n",
              "    </tr>\n",
              "  </thead>\n",
              "  <tbody>\n",
              "    <tr>\n",
              "      <th>0</th>\n",
              "      <td>Data Analyst</td>\n",
              "      <td>$47,000 - $53,000  Mensual</td>\n",
              "      <td>P3 Impulsores Estrategicos</td>\n",
              "      <td>Ciudad de México</td>\n",
              "    </tr>\n",
              "    <tr>\n",
              "      <th>1</th>\n",
              "      <td>Data Analyst</td>\n",
              "      <td>$35,000  Mensual</td>\n",
              "      <td>Corporativo Mek De México</td>\n",
              "      <td>Ciudad de México</td>\n",
              "    </tr>\n",
              "    <tr>\n",
              "      <th>2</th>\n",
              "      <td>Data Analyst</td>\n",
              "      <td>NaN</td>\n",
              "      <td>Fidelity Marketing S.A De C.V</td>\n",
              "      <td>Ciudad de México</td>\n",
              "    </tr>\n",
              "    <tr>\n",
              "      <th>3</th>\n",
              "      <td>Data Analyst</td>\n",
              "      <td>$13,000 - $13,300  Mensual</td>\n",
              "      <td>Universidad Tecnológica De México</td>\n",
              "      <td>Ciudad de México</td>\n",
              "    </tr>\n",
              "    <tr>\n",
              "      <th>4</th>\n",
              "      <td>Data Analyst</td>\n",
              "      <td>NaN</td>\n",
              "      <td>Laboratorios Médicos Del Chopo</td>\n",
              "      <td>Ciudad de México</td>\n",
              "    </tr>\n",
              "    <tr>\n",
              "      <th>5</th>\n",
              "      <td>Data Analyst</td>\n",
              "      <td>$8,500 - $9,000  Mensual</td>\n",
              "      <td>Conduent De México Sa De Cv</td>\n",
              "      <td>Chihuahua</td>\n",
              "    </tr>\n",
              "    <tr>\n",
              "      <th>6</th>\n",
              "      <td>Data Analyst</td>\n",
              "      <td>NaN</td>\n",
              "      <td>Banamex</td>\n",
              "      <td>Ciudad de México</td>\n",
              "    </tr>\n",
              "    <tr>\n",
              "      <th>7</th>\n",
              "      <td>Data Analyst</td>\n",
              "      <td>$7,500 - $8,500  Mensual</td>\n",
              "      <td>Grupo Comercial Control</td>\n",
              "      <td>Estado de México</td>\n",
              "    </tr>\n",
              "    <tr>\n",
              "      <th>8</th>\n",
              "      <td>Data Analyst</td>\n",
              "      <td>$7,000 - $8,000  Mensual</td>\n",
              "      <td>Ediciones Larousse, S.A. De C.V.</td>\n",
              "      <td>Ciudad de México</td>\n",
              "    </tr>\n",
              "    <tr>\n",
              "      <th>9</th>\n",
              "      <td>Data Analyst</td>\n",
              "      <td>$12,000  Mensual</td>\n",
              "      <td>Auto Líneas América</td>\n",
              "      <td>Guanajuato</td>\n",
              "    </tr>\n",
              "  </tbody>\n",
              "</table>\n",
              "</div>"
            ],
            "text/plain": [
              "            Job                      Salary  \\\n",
              "0  Data Analyst  $47,000 - $53,000  Mensual   \n",
              "1  Data Analyst            $35,000  Mensual   \n",
              "2  Data Analyst                         NaN   \n",
              "3  Data Analyst  $13,000 - $13,300  Mensual   \n",
              "4  Data Analyst                         NaN   \n",
              "5  Data Analyst    $8,500 - $9,000  Mensual   \n",
              "6  Data Analyst                         NaN   \n",
              "7  Data Analyst    $7,500 - $8,500  Mensual   \n",
              "8  Data Analyst    $7,000 - $8,000  Mensual   \n",
              "9  Data Analyst            $12,000  Mensual   \n",
              "\n",
              "                             Company          Location  \n",
              "0         P3 Impulsores Estrategicos  Ciudad de México  \n",
              "1          Corporativo Mek De México  Ciudad de México  \n",
              "2      Fidelity Marketing S.A De C.V  Ciudad de México  \n",
              "3  Universidad Tecnológica De México  Ciudad de México  \n",
              "4     Laboratorios Médicos Del Chopo  Ciudad de México  \n",
              "5        Conduent De México Sa De Cv         Chihuahua  \n",
              "6                            Banamex  Ciudad de México  \n",
              "7            Grupo Comercial Control  Estado de México  \n",
              "8   Ediciones Larousse, S.A. De C.V.  Ciudad de México  \n",
              "9                Auto Líneas América        Guanajuato  "
            ]
          },
          "execution_count": 646,
          "metadata": {},
          "output_type": "execute_result"
        }
      ],
      "source": [
        "# Cleaning of the Location variable in the dataset\n",
        "for i in range(len(location_dict)):\n",
        "  df['Location'] = df['Location'].map(lambda x: list(location_dict.values())[i] if x == list(location_dict.keys())[i] else x)\n",
        "\n",
        "df.head(10)"
      ]
    },
    {
      "cell_type": "code",
      "execution_count": 647,
      "metadata": {
        "colab": {
          "base_uri": "https://localhost:8080/",
          "height": 502
        },
        "id": "5-3ccs2oohBo",
        "outputId": "30a1139e-9939-40ff-8c8a-42d74425fdcb"
      },
      "outputs": [
        {
          "data": {
            "image/png": "[encoded data removed]",
            "text/plain": [
              "<Figure size 360x576 with 1 Axes>"
            ]
          },
          "metadata": {},
          "output_type": "display_data"
        }
      ],
      "source": [
        "# Visual exploration of the cleaned Location variable\n",
        "fig, ax = plt.subplots(figsize = (5, 8))\n",
        "sns.barplot(x = df['Location'].value_counts(), y= df['Location'].unique(), palette=\"Spectral_r\", alpha = 0.9)\n",
        "plt.title('Frequency per Mexican State', fontsize=15, fontweight='bold')\n",
        "plt.xlabel('Frequency', fontsize=15, fontweight='bold')\n",
        "plt.ylabel('State', fontsize=15, fontweight='bold')\n",
        "plt.show()\n"
      ]
    },
    {
      "cell_type": "markdown",
      "metadata": {},
      "source": [
        "The plot above shows that the names of the Mexican states where the data job vacancies are demanded is now consistent. So, the variable **Location** has been successfully cleaned."
      ]
    },
    {
      "cell_type": "markdown",
      "metadata": {},
      "source": [
        "#### **2.4 Cleaning of the variable 'Salary'**\n",
        "\n",
        "This section shows the process carried out to wrangle and clean the salary data. To do so, the salary observations were cleaned from useless characters, then, the salary ranges were splitted into two columns and a average salary was calculated when applicable. Finally, non useful Salary columns were dropped."
      ]
    },
    {
      "cell_type": "code",
      "execution_count": 648,
      "metadata": {},
      "outputs": [
        {
          "data": {
            "text/html": [
              "<div>\n",
              "<style scoped>\n",
              "    .dataframe tbody tr th:only-of-type {\n",
              "        vertical-align: middle;\n",
              "    }\n",
              "\n",
              "    .dataframe tbody tr th {\n",
              "        vertical-align: top;\n",
              "    }\n",
              "\n",
              "    .dataframe thead th {\n",
              "        text-align: right;\n",
              "    }\n",
              "</style>\n",
              "<table border=\"1\" class=\"dataframe\">\n",
              "  <thead>\n",
              "    <tr style=\"text-align: right;\">\n",
              "      <th></th>\n",
              "      <th>Job</th>\n",
              "      <th>Salary</th>\n",
              "      <th>Company</th>\n",
              "      <th>Location</th>\n",
              "    </tr>\n",
              "  </thead>\n",
              "  <tbody>\n",
              "    <tr>\n",
              "      <th>745</th>\n",
              "      <td>Data Engineer</td>\n",
              "      <td>$10,000 - $12,000  Anual</td>\n",
              "      <td>Here</td>\n",
              "      <td>Guanajuato</td>\n",
              "    </tr>\n",
              "    <tr>\n",
              "      <th>762</th>\n",
              "      <td>Data Engineer</td>\n",
              "      <td>$10,000 - $12,000  Anual</td>\n",
              "      <td>Teradata</td>\n",
              "      <td>Baja California</td>\n",
              "    </tr>\n",
              "    <tr>\n",
              "      <th>776</th>\n",
              "      <td>Data Engineer</td>\n",
              "      <td>$10,000 - $12,000  Anual</td>\n",
              "      <td>Teradata</td>\n",
              "      <td>Estado de México</td>\n",
              "    </tr>\n",
              "  </tbody>\n",
              "</table>\n",
              "</div>"
            ],
            "text/plain": [
              "               Job                    Salary   Company          Location\n",
              "745  Data Engineer  $10,000 - $12,000  Anual      Here        Guanajuato\n",
              "762  Data Engineer  $10,000 - $12,000  Anual  Teradata   Baja California\n",
              "776  Data Engineer  $10,000 - $12,000  Anual  Teradata  Estado de México"
            ]
          },
          "execution_count": 648,
          "metadata": {},
          "output_type": "execute_result"
        }
      ],
      "source": [
        "# Checking if all the Salary observations are disclosed in a monthly basis\n",
        "df[df['Salary'].map(lambda x: True if ('Mensual' not in str(x)) and (x is not np.nan) else False)]"
      ]
    },
    {
      "cell_type": "markdown",
      "metadata": {},
      "source": [
        "The above results suggest that the offered \"annual\" salary is way **too low** to be an accurate figure. So, most likely, it is a clerical mistake at the moment of publishing the vacancies on the website. Thus, such observations will be taken as monthly salaries for the purposes of the present study."
      ]
    },
    {
      "cell_type": "code",
      "execution_count": 649,
      "metadata": {
        "id": "DQm5tYYBvz05"
      },
      "outputs": [
        {
          "name": "stderr",
          "output_type": "stream",
          "text": [
            "C:\\Users\\DanielEduardo.Eduardo\\AppData\\Local\\Temp\\ipykernel_9888\\337619802.py:11: FutureWarning: The default value of regex will change from True to False in a future version. In addition, single character regular expressions will *not* be treated as literal strings when regex=True.\n",
            "  df['Salary'] = df['Salary'].str.replace(key, value).str.strip()\n"
          ]
        },
        {
          "data": {
            "text/html": [
              "<div>\n",
              "<style scoped>\n",
              "    .dataframe tbody tr th:only-of-type {\n",
              "        vertical-align: middle;\n",
              "    }\n",
              "\n",
              "    .dataframe tbody tr th {\n",
              "        vertical-align: top;\n",
              "    }\n",
              "\n",
              "    .dataframe thead th {\n",
              "        text-align: right;\n",
              "    }\n",
              "</style>\n",
              "<table border=\"1\" class=\"dataframe\">\n",
              "  <thead>\n",
              "    <tr style=\"text-align: right;\">\n",
              "      <th></th>\n",
              "      <th>Job</th>\n",
              "      <th>Company</th>\n",
              "      <th>Location</th>\n",
              "      <th>Average Salary</th>\n",
              "    </tr>\n",
              "  </thead>\n",
              "  <tbody>\n",
              "    <tr>\n",
              "      <th>0</th>\n",
              "      <td>Data Analyst</td>\n",
              "      <td>P3 Impulsores Estrategicos</td>\n",
              "      <td>Ciudad de México</td>\n",
              "      <td>50000.0</td>\n",
              "    </tr>\n",
              "    <tr>\n",
              "      <th>1</th>\n",
              "      <td>Data Analyst</td>\n",
              "      <td>Corporativo Mek De México</td>\n",
              "      <td>Ciudad de México</td>\n",
              "      <td>NaN</td>\n",
              "    </tr>\n",
              "    <tr>\n",
              "      <th>2</th>\n",
              "      <td>Data Analyst</td>\n",
              "      <td>Fidelity Marketing S.A De C.V</td>\n",
              "      <td>Ciudad de México</td>\n",
              "      <td>NaN</td>\n",
              "    </tr>\n",
              "    <tr>\n",
              "      <th>3</th>\n",
              "      <td>Data Analyst</td>\n",
              "      <td>Universidad Tecnológica De México</td>\n",
              "      <td>Ciudad de México</td>\n",
              "      <td>13150.0</td>\n",
              "    </tr>\n",
              "    <tr>\n",
              "      <th>4</th>\n",
              "      <td>Data Analyst</td>\n",
              "      <td>Laboratorios Médicos Del Chopo</td>\n",
              "      <td>Ciudad de México</td>\n",
              "      <td>NaN</td>\n",
              "    </tr>\n",
              "    <tr>\n",
              "      <th>5</th>\n",
              "      <td>Data Analyst</td>\n",
              "      <td>Conduent De México Sa De Cv</td>\n",
              "      <td>Chihuahua</td>\n",
              "      <td>8750.0</td>\n",
              "    </tr>\n",
              "    <tr>\n",
              "      <th>6</th>\n",
              "      <td>Data Analyst</td>\n",
              "      <td>Banamex</td>\n",
              "      <td>Ciudad de México</td>\n",
              "      <td>NaN</td>\n",
              "    </tr>\n",
              "    <tr>\n",
              "      <th>7</th>\n",
              "      <td>Data Analyst</td>\n",
              "      <td>Grupo Comercial Control</td>\n",
              "      <td>Estado de México</td>\n",
              "      <td>8000.0</td>\n",
              "    </tr>\n",
              "    <tr>\n",
              "      <th>8</th>\n",
              "      <td>Data Analyst</td>\n",
              "      <td>Ediciones Larousse, S.A. De C.V.</td>\n",
              "      <td>Ciudad de México</td>\n",
              "      <td>7500.0</td>\n",
              "    </tr>\n",
              "    <tr>\n",
              "      <th>9</th>\n",
              "      <td>Data Analyst</td>\n",
              "      <td>Auto Líneas América</td>\n",
              "      <td>Guanajuato</td>\n",
              "      <td>NaN</td>\n",
              "    </tr>\n",
              "  </tbody>\n",
              "</table>\n",
              "</div>"
            ],
            "text/plain": [
              "            Job                            Company          Location  \\\n",
              "0  Data Analyst         P3 Impulsores Estrategicos  Ciudad de México   \n",
              "1  Data Analyst          Corporativo Mek De México  Ciudad de México   \n",
              "2  Data Analyst      Fidelity Marketing S.A De C.V  Ciudad de México   \n",
              "3  Data Analyst  Universidad Tecnológica De México  Ciudad de México   \n",
              "4  Data Analyst     Laboratorios Médicos Del Chopo  Ciudad de México   \n",
              "5  Data Analyst        Conduent De México Sa De Cv         Chihuahua   \n",
              "6  Data Analyst                            Banamex  Ciudad de México   \n",
              "7  Data Analyst            Grupo Comercial Control  Estado de México   \n",
              "8  Data Analyst   Ediciones Larousse, S.A. De C.V.  Ciudad de México   \n",
              "9  Data Analyst                Auto Líneas América        Guanajuato   \n",
              "\n",
              "   Average Salary  \n",
              "0         50000.0  \n",
              "1             NaN  \n",
              "2             NaN  \n",
              "3         13150.0  \n",
              "4             NaN  \n",
              "5          8750.0  \n",
              "6             NaN  \n",
              "7          8000.0  \n",
              "8          7500.0  \n",
              "9             NaN  "
            ]
          },
          "execution_count": 649,
          "metadata": {},
          "output_type": "execute_result"
        }
      ],
      "source": [
        "# Cleaning of the Salary variable\n",
        "\n",
        "# Removing useless characters from column values\n",
        "char_remove = {\n",
        "                'Anual': '',\n",
        "                'Mensual': '',\n",
        "                '$': '',\n",
        "                ',': ''}\n",
        "\n",
        "for key, value in char_remove.items():\n",
        "    df['Salary'] = df['Salary'].str.replace(key, value).str.strip()\n",
        "\n",
        "# Splitting Salary column values into two columns\n",
        "df[['Min Salary', 'Max Salary']] = df['Salary'].str.split('-', 1, expand=True)\n",
        "df['Min Salary'] = df['Min Salary'].str.strip().astype(np.float64)\n",
        "df['Max Salary'] = df['Max Salary'].str.strip().astype(np.float64)\n",
        "\n",
        "# Calculating Average Salary\n",
        "df['Average Salary'] = (df['Min Salary'] + df['Max Salary'])/2 if df['Max Salary'] is not None else df['Min Salary']\n",
        "\n",
        "# Dropping other Salary columns\n",
        "df = df.drop(axis = 1, columns= ['Salary', 'Min Salary', 'Max Salary']) \n",
        "\n",
        "df.head(10)"
      ]
    },
    {
      "cell_type": "code",
      "execution_count": 650,
      "metadata": {},
      "outputs": [
        {
          "data": {
            "image/png": "[encoded data removed]",
            "text/plain": [
              "<Figure size 720x504 with 1 Axes>"
            ]
          },
          "metadata": {},
          "output_type": "display_data"
        }
      ],
      "source": [
        "# Visual exploration of the cleaned Salary variable\n",
        "fig, ax = plt.subplots(figsize = (10, 7))\n",
        "sns.histplot(data= df['Average Salary'], color = 'Blue', alpha = 0.9)\n",
        "plt.title('Salary Distribution', fontsize=15, fontweight='bold')\n",
        "plt.xlabel('Salary', fontsize=15, fontweight='bold')\n",
        "plt.ylabel('Frequency', fontsize=15, fontweight='bold')\n",
        "plt.show()"
      ]
    },
    {
      "cell_type": "markdown",
      "metadata": {},
      "source": [
        " The histogram above suggests that all Salary observations have been transformed from a range in a string format into actual numbers. So, it is considered that the variable **Salary** has been successfully cleaned. On the other hand, it is noteworthy that some observations fall well beyond the main salary distribution. Let's take a look into those observations."
      ]
    },
    {
      "cell_type": "code",
      "execution_count": 651,
      "metadata": {},
      "outputs": [
        {
          "data": {
            "text/html": [
              "<div>\n",
              "<style scoped>\n",
              "    .dataframe tbody tr th:only-of-type {\n",
              "        vertical-align: middle;\n",
              "    }\n",
              "\n",
              "    .dataframe tbody tr th {\n",
              "        vertical-align: top;\n",
              "    }\n",
              "\n",
              "    .dataframe thead th {\n",
              "        text-align: right;\n",
              "    }\n",
              "</style>\n",
              "<table border=\"1\" class=\"dataframe\">\n",
              "  <thead>\n",
              "    <tr style=\"text-align: right;\">\n",
              "      <th></th>\n",
              "      <th>Job</th>\n",
              "      <th>Company</th>\n",
              "      <th>Location</th>\n",
              "      <th>Average Salary</th>\n",
              "    </tr>\n",
              "  </thead>\n",
              "  <tbody>\n",
              "    <tr>\n",
              "      <th>202</th>\n",
              "      <td>Data Analyst</td>\n",
              "      <td>Starkejobs Sc</td>\n",
              "      <td>Estado de México</td>\n",
              "      <td>137500.0</td>\n",
              "    </tr>\n",
              "  </tbody>\n",
              "</table>\n",
              "</div>"
            ],
            "text/plain": [
              "              Job        Company          Location  Average Salary\n",
              "202  Data Analyst  Starkejobs Sc  Estado de México        137500.0"
            ]
          },
          "execution_count": 651,
          "metadata": {},
          "output_type": "execute_result"
        }
      ],
      "source": [
        "df[df['Average Salary'] > 120000]"
      ]
    },
    {
      "cell_type": "markdown",
      "metadata": {},
      "source": [
        "From the above results, it is inconsistent that a Data Analyst position earns an extremely high salary as the one showed. On the contrary, Data Analyst positions tend to be entry-level positions in the data-related jobs structure as they require less math and programming skills in comparison to Data Scientists or Data Engineers. \n",
        "\n",
        "On the other hand, it is notable that this result only correspond to a single observation. So, this tuple can be classified as an outlier and, in order to provide with **more accuracy to the subsequent analysis**, this observation was removed from the dataset.  "
      ]
    },
    {
      "cell_type": "code",
      "execution_count": 652,
      "metadata": {},
      "outputs": [],
      "source": [
        "df = df[df['Average Salary'] < 120000]"
      ]
    },
    {
      "cell_type": "markdown",
      "metadata": {},
      "source": [
        "#### **2.5 Exportation of the cleaned datasets**\n",
        "\n",
        "This section shows the process for exporting the two desired datasets as well as creating the second dataset with only fully disclosed salary data."
      ]
    },
    {
      "cell_type": "code",
      "execution_count": 653,
      "metadata": {},
      "outputs": [],
      "source": [
        "# Exporting of first dataset with the whole Geographical and Company data \n",
        "df.to_csv('DataSet_Clean_Geo.csv', index=False, encoding='utf-8')"
      ]
    },
    {
      "cell_type": "code",
      "execution_count": 654,
      "metadata": {},
      "outputs": [
        {
          "data": {
            "text/html": [
              "<div>\n",
              "<style scoped>\n",
              "    .dataframe tbody tr th:only-of-type {\n",
              "        vertical-align: middle;\n",
              "    }\n",
              "\n",
              "    .dataframe tbody tr th {\n",
              "        vertical-align: top;\n",
              "    }\n",
              "\n",
              "    .dataframe thead th {\n",
              "        text-align: right;\n",
              "    }\n",
              "</style>\n",
              "<table border=\"1\" class=\"dataframe\">\n",
              "  <thead>\n",
              "    <tr style=\"text-align: right;\">\n",
              "      <th></th>\n",
              "      <th>Job</th>\n",
              "      <th>Company</th>\n",
              "      <th>Location</th>\n",
              "      <th>Average Salary</th>\n",
              "    </tr>\n",
              "  </thead>\n",
              "  <tbody>\n",
              "    <tr>\n",
              "      <th>0</th>\n",
              "      <td>Data Analyst</td>\n",
              "      <td>P3 Impulsores Estrategicos</td>\n",
              "      <td>Ciudad de México</td>\n",
              "      <td>50000.0</td>\n",
              "    </tr>\n",
              "    <tr>\n",
              "      <th>3</th>\n",
              "      <td>Data Analyst</td>\n",
              "      <td>Universidad Tecnológica De México</td>\n",
              "      <td>Ciudad de México</td>\n",
              "      <td>13150.0</td>\n",
              "    </tr>\n",
              "    <tr>\n",
              "      <th>5</th>\n",
              "      <td>Data Analyst</td>\n",
              "      <td>Conduent De México Sa De Cv</td>\n",
              "      <td>Chihuahua</td>\n",
              "      <td>8750.0</td>\n",
              "    </tr>\n",
              "    <tr>\n",
              "      <th>7</th>\n",
              "      <td>Data Analyst</td>\n",
              "      <td>Grupo Comercial Control</td>\n",
              "      <td>Estado de México</td>\n",
              "      <td>8000.0</td>\n",
              "    </tr>\n",
              "    <tr>\n",
              "      <th>8</th>\n",
              "      <td>Data Analyst</td>\n",
              "      <td>Ediciones Larousse, S.A. De C.V.</td>\n",
              "      <td>Ciudad de México</td>\n",
              "      <td>7500.0</td>\n",
              "    </tr>\n",
              "    <tr>\n",
              "      <th>10</th>\n",
              "      <td>Data Analyst</td>\n",
              "      <td>Gepp</td>\n",
              "      <td>Jalisco</td>\n",
              "      <td>9925.0</td>\n",
              "    </tr>\n",
              "    <tr>\n",
              "      <th>11</th>\n",
              "      <td>Data Analyst</td>\n",
              "      <td>Jeltm Asesores Fiscales</td>\n",
              "      <td>Ciudad de México</td>\n",
              "      <td>21000.0</td>\n",
              "    </tr>\n",
              "    <tr>\n",
              "      <th>12</th>\n",
              "      <td>Data Analyst</td>\n",
              "      <td>Adecco</td>\n",
              "      <td>Estado de México</td>\n",
              "      <td>26500.0</td>\n",
              "    </tr>\n",
              "    <tr>\n",
              "      <th>14</th>\n",
              "      <td>Data Analyst</td>\n",
              "      <td>Kukulcan Express Sa De Cv</td>\n",
              "      <td>Quintana Roo</td>\n",
              "      <td>11000.0</td>\n",
              "    </tr>\n",
              "    <tr>\n",
              "      <th>17</th>\n",
              "      <td>Data Analyst</td>\n",
              "      <td>Encontrack Sa De Cv</td>\n",
              "      <td>Ciudad de México</td>\n",
              "      <td>17500.0</td>\n",
              "    </tr>\n",
              "  </tbody>\n",
              "</table>\n",
              "</div>"
            ],
            "text/plain": [
              "             Job                            Company          Location  \\\n",
              "0   Data Analyst         P3 Impulsores Estrategicos  Ciudad de México   \n",
              "3   Data Analyst  Universidad Tecnológica De México  Ciudad de México   \n",
              "5   Data Analyst        Conduent De México Sa De Cv         Chihuahua   \n",
              "7   Data Analyst            Grupo Comercial Control  Estado de México   \n",
              "8   Data Analyst   Ediciones Larousse, S.A. De C.V.  Ciudad de México   \n",
              "10  Data Analyst                               Gepp           Jalisco   \n",
              "11  Data Analyst            Jeltm Asesores Fiscales  Ciudad de México   \n",
              "12  Data Analyst                             Adecco  Estado de México   \n",
              "14  Data Analyst          Kukulcan Express Sa De Cv      Quintana Roo   \n",
              "17  Data Analyst                Encontrack Sa De Cv  Ciudad de México   \n",
              "\n",
              "    Average Salary  \n",
              "0          50000.0  \n",
              "3          13150.0  \n",
              "5           8750.0  \n",
              "7           8000.0  \n",
              "8           7500.0  \n",
              "10          9925.0  \n",
              "11         21000.0  \n",
              "12         26500.0  \n",
              "14         11000.0  \n",
              "17         17500.0  "
            ]
          },
          "execution_count": 654,
          "metadata": {},
          "output_type": "execute_result"
        }
      ],
      "source": [
        "# Creation of the second dataframe\n",
        "df2 = df.copy()\n",
        "df2.head(10)"
      ]
    },
    {
      "cell_type": "code",
      "execution_count": 655,
      "metadata": {},
      "outputs": [
        {
          "name": "stdout",
          "output_type": "stream",
          "text": [
            "<class 'pandas.core.frame.DataFrame'>\n",
            "Int64Index: 157 entries, 0 to 1238\n",
            "Data columns (total 4 columns):\n",
            " #   Column          Non-Null Count  Dtype  \n",
            "---  ------          --------------  -----  \n",
            " 0   Job             157 non-null    object \n",
            " 1   Company         157 non-null    object \n",
            " 2   Location        157 non-null    object \n",
            " 3   Average Salary  157 non-null    float64\n",
            "dtypes: float64(1), object(3)\n",
            "memory usage: 6.1+ KB\n"
          ]
        }
      ],
      "source": [
        "# Drop of null Salary values\n",
        "df2 = df2.dropna(subset = 'Average Salary')\n",
        "df2.info()"
      ]
    },
    {
      "cell_type": "code",
      "execution_count": 656,
      "metadata": {},
      "outputs": [
        {
          "data": {
            "text/html": [
              "<div>\n",
              "<style scoped>\n",
              "    .dataframe tbody tr th:only-of-type {\n",
              "        vertical-align: middle;\n",
              "    }\n",
              "\n",
              "    .dataframe tbody tr th {\n",
              "        vertical-align: top;\n",
              "    }\n",
              "\n",
              "    .dataframe thead th {\n",
              "        text-align: right;\n",
              "    }\n",
              "</style>\n",
              "<table border=\"1\" class=\"dataframe\">\n",
              "  <thead>\n",
              "    <tr style=\"text-align: right;\">\n",
              "      <th></th>\n",
              "      <th>Job</th>\n",
              "      <th>Company</th>\n",
              "      <th>Location</th>\n",
              "      <th>Average Salary</th>\n",
              "    </tr>\n",
              "  </thead>\n",
              "  <tbody>\n",
              "    <tr>\n",
              "      <th>0</th>\n",
              "      <td>Data Analyst</td>\n",
              "      <td>P3 Impulsores Estrategicos</td>\n",
              "      <td>Ciudad de México</td>\n",
              "      <td>50000.0</td>\n",
              "    </tr>\n",
              "    <tr>\n",
              "      <th>3</th>\n",
              "      <td>Data Analyst</td>\n",
              "      <td>Universidad Tecnológica De México</td>\n",
              "      <td>Ciudad de México</td>\n",
              "      <td>13150.0</td>\n",
              "    </tr>\n",
              "    <tr>\n",
              "      <th>5</th>\n",
              "      <td>Data Analyst</td>\n",
              "      <td>Conduent De México Sa De Cv</td>\n",
              "      <td>Chihuahua</td>\n",
              "      <td>8750.0</td>\n",
              "    </tr>\n",
              "    <tr>\n",
              "      <th>7</th>\n",
              "      <td>Data Analyst</td>\n",
              "      <td>Grupo Comercial Control</td>\n",
              "      <td>Estado de México</td>\n",
              "      <td>8000.0</td>\n",
              "    </tr>\n",
              "    <tr>\n",
              "      <th>8</th>\n",
              "      <td>Data Analyst</td>\n",
              "      <td>Ediciones Larousse, S.A. De C.V.</td>\n",
              "      <td>Ciudad de México</td>\n",
              "      <td>7500.0</td>\n",
              "    </tr>\n",
              "  </tbody>\n",
              "</table>\n",
              "</div>"
            ],
            "text/plain": [
              "            Job                            Company          Location  \\\n",
              "0  Data Analyst         P3 Impulsores Estrategicos  Ciudad de México   \n",
              "3  Data Analyst  Universidad Tecnológica De México  Ciudad de México   \n",
              "5  Data Analyst        Conduent De México Sa De Cv         Chihuahua   \n",
              "7  Data Analyst            Grupo Comercial Control  Estado de México   \n",
              "8  Data Analyst   Ediciones Larousse, S.A. De C.V.  Ciudad de México   \n",
              "\n",
              "   Average Salary  \n",
              "0         50000.0  \n",
              "3         13150.0  \n",
              "5          8750.0  \n",
              "7          8000.0  \n",
              "8          7500.0  "
            ]
          },
          "execution_count": 656,
          "metadata": {},
          "output_type": "execute_result"
        }
      ],
      "source": [
        "df2.head()"
      ]
    },
    {
      "cell_type": "code",
      "execution_count": 657,
      "metadata": {},
      "outputs": [],
      "source": [
        "# Exporting of second dataset with the only disclosed Salary data \n",
        "df.to_csv('DataSet_Clean_Salary.csv', index=False, encoding='utf-8')"
      ]
    }
  ],
  "metadata": {
    "colab": {
      "collapsed_sections": [],
      "name": "2-DataWrangling.ipynb",
      "provenance": []
    },
    "kernelspec": {
      "display_name": "Python 3.8.8 ('base')",
      "language": "python",
      "name": "python3"
    },
    "language_info": {
      "codemirror_mode": {
        "name": "ipython",
        "version": 3
      },
      "file_extension": ".py",
      "mimetype": "text/x-python",
      "name": "python",
      "nbconvert_exporter": "python",
      "pygments_lexer": "ipython3",
      "version": "3.8.8"
    },
    "vscode": {
      "interpreter": {
        "hash": "6e975f9d2f60b4d9c1da07316fa345238690997a135e24c2e358becc5092ba7f"
      }
    }
  },
  "nbformat": 4,
  "nbformat_minor": 0
}
