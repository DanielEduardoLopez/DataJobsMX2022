{
  "cells": [
    {
      "cell_type": "markdown",
      "metadata": {
        "id": "n_NW48j6YB5r"
      },
      "source": [
        "# Project: **Data Jobs Salaries in Mexico in July 2022**\n",
        "___\n",
        "___\n",
        "## **2. Data Wrangling**\n",
        "___\n",
        "\n",
        "Author: **Daniel Eduardo López**\n",
        "\n",
        "GitHub: **_https://github.com/DanielEduardoLopez_**\n",
        "\n",
        "Email: **_daniel-eduardo-lopez@outlook.com_**\n",
        "___"
      ]
    },
    {
      "cell_type": "markdown",
      "metadata": {
        "id": "K1Yw06j_YpaB"
      },
      "source": [
        "The purpose of the present notebook is to perform the process of **data cleaning and wrangling** in order to enable the analysis and visualization of the job data collected through web scraping.\n",
        "\n",
        "To do so, first, the data was load to a Pandas dataframe. Then, the data was explored with the Pandas and Seaborn libraries to gain some understanding and preliminary insights as well as defining some wrangling strategies to effectively clean the data.\n",
        "\n",
        "Finally, the data was cleaned with Pandas. Some of the procedures applied to the data were:\n",
        "- Drop of null values\n",
        "- Drop of duplicates\n",
        "- Split of columns\n",
        "- Trimming and cleaning of values\n",
        "- Armonization of terms in each attributes."
      ]
    },
    {
      "cell_type": "markdown",
      "metadata": {
        "id": "8yBUIVuUqEWL"
      },
      "source": [
        "### **1. Data loading and Exploration**\n",
        "___"
      ]
    },
    {
      "cell_type": "code",
      "execution_count": 2,
      "metadata": {
        "id": "R-AvEfZOXwJ-"
      },
      "outputs": [],
      "source": [
        "# Libraries importation\n",
        "import pandas as pd\n",
        "import numpy as np\n",
        "import matplotlib as mpl\n",
        "import matplotlib.pyplot as plt\n",
        "import seaborn as sns"
      ]
    },
    {
      "cell_type": "code",
      "execution_count": 3,
      "metadata": {
        "id": "nzPgEynvdLls"
      },
      "outputs": [],
      "source": [
        "mpl.style.use('ggplot') # For a ggplot-like plotting style"
      ]
    },
    {
      "cell_type": "code",
      "execution_count": 4,
      "metadata": {
        "colab": {
          "base_uri": "https://localhost:8080/",
          "height": 363
        },
        "id": "TW-SgUWOZk3H",
        "outputId": "8b5493f6-bb74-40e4-a56f-833c8331ff7d"
      },
      "outputs": [
        {
          "data": {
            "text/html": [
              "<div>\n",
              "<style scoped>\n",
              "    .dataframe tbody tr th:only-of-type {\n",
              "        vertical-align: middle;\n",
              "    }\n",
              "\n",
              "    .dataframe tbody tr th {\n",
              "        vertical-align: top;\n",
              "    }\n",
              "\n",
              "    .dataframe thead th {\n",
              "        text-align: right;\n",
              "    }\n",
              "</style>\n",
              "<table border=\"1\" class=\"dataframe\">\n",
              "  <thead>\n",
              "    <tr style=\"text-align: right;\">\n",
              "      <th></th>\n",
              "      <th>Job</th>\n",
              "      <th>Salary</th>\n",
              "      <th>Company</th>\n",
              "      <th>Location</th>\n",
              "    </tr>\n",
              "  </thead>\n",
              "  <tbody>\n",
              "    <tr>\n",
              "      <th>0</th>\n",
              "      <td>Analista de datos</td>\n",
              "      <td>$47,000 - $53,000  Mensual</td>\n",
              "      <td>P3 IMPULSORES ESTRATEGICOS</td>\n",
              "      <td>CDMX</td>\n",
              "    </tr>\n",
              "    <tr>\n",
              "      <th>1</th>\n",
              "      <td>Analista de Datos</td>\n",
              "      <td>$35,000  Mensual</td>\n",
              "      <td>Corporativo Mek de México</td>\n",
              "      <td>Ciudad de México</td>\n",
              "    </tr>\n",
              "    <tr>\n",
              "      <th>2</th>\n",
              "      <td>Analista de datos</td>\n",
              "      <td>NaN</td>\n",
              "      <td>FIDELITY MARKETING S.A DE C.V</td>\n",
              "      <td>CDMX</td>\n",
              "    </tr>\n",
              "    <tr>\n",
              "      <th>3</th>\n",
              "      <td>Analista de datos</td>\n",
              "      <td>$13,000 - $13,300  Mensual</td>\n",
              "      <td>Universidad Tecnológica de México</td>\n",
              "      <td>Ciudad de México</td>\n",
              "    </tr>\n",
              "    <tr>\n",
              "      <th>4</th>\n",
              "      <td>Analista de Datos</td>\n",
              "      <td>NaN</td>\n",
              "      <td>Laboratorios Médicos del Chopo</td>\n",
              "      <td>CDMX</td>\n",
              "    </tr>\n",
              "    <tr>\n",
              "      <th>5</th>\n",
              "      <td>ANALISTA DE DATOS</td>\n",
              "      <td>$8,500 - $9,000  Mensual</td>\n",
              "      <td>Conduent de México SA de CV</td>\n",
              "      <td>Chih.</td>\n",
              "    </tr>\n",
              "    <tr>\n",
              "      <th>6</th>\n",
              "      <td>Analista de datos</td>\n",
              "      <td>NaN</td>\n",
              "      <td>Banamex</td>\n",
              "      <td>CDMX</td>\n",
              "    </tr>\n",
              "    <tr>\n",
              "      <th>7</th>\n",
              "      <td>Analista de Datos</td>\n",
              "      <td>$7,500 - $8,500  Mensual</td>\n",
              "      <td>Grupo Comercial Control</td>\n",
              "      <td>Edo. Méx.​</td>\n",
              "    </tr>\n",
              "    <tr>\n",
              "      <th>8</th>\n",
              "      <td>Analista de datos</td>\n",
              "      <td>$7,000 - $8,000  Mensual</td>\n",
              "      <td>Ediciones Larousse, S.A. de C.V.</td>\n",
              "      <td>CDMX</td>\n",
              "    </tr>\n",
              "    <tr>\n",
              "      <th>9</th>\n",
              "      <td>ANALISTA DE DATOS</td>\n",
              "      <td>$12,000  Mensual</td>\n",
              "      <td>Auto Líneas América</td>\n",
              "      <td>Gto.</td>\n",
              "    </tr>\n",
              "  </tbody>\n",
              "</table>\n",
              "</div>"
            ],
            "text/plain": [
              "                 Job                      Salary  \\\n",
              "0  Analista de datos  $47,000 - $53,000  Mensual   \n",
              "1  Analista de Datos            $35,000  Mensual   \n",
              "2  Analista de datos                         NaN   \n",
              "3  Analista de datos  $13,000 - $13,300  Mensual   \n",
              "4  Analista de Datos                         NaN   \n",
              "5  ANALISTA DE DATOS    $8,500 - $9,000  Mensual   \n",
              "6  Analista de datos                         NaN   \n",
              "7  Analista de Datos    $7,500 - $8,500  Mensual   \n",
              "8  Analista de datos    $7,000 - $8,000  Mensual   \n",
              "9  ANALISTA DE DATOS            $12,000  Mensual   \n",
              "\n",
              "                             Company          Location  \n",
              "0         P3 IMPULSORES ESTRATEGICOS              CDMX  \n",
              "1          Corporativo Mek de México  Ciudad de México  \n",
              "2      FIDELITY MARKETING S.A DE C.V              CDMX  \n",
              "3  Universidad Tecnológica de México  Ciudad de México  \n",
              "4     Laboratorios Médicos del Chopo              CDMX  \n",
              "5        Conduent de México SA de CV             Chih.  \n",
              "6                            Banamex              CDMX  \n",
              "7            Grupo Comercial Control        Edo. Méx.​  \n",
              "8   Ediciones Larousse, S.A. de C.V.              CDMX  \n",
              "9                Auto Líneas América              Gto.  "
            ]
          },
          "execution_count": 4,
          "metadata": {},
          "output_type": "execute_result"
        }
      ],
      "source": [
        "# Data importation\n",
        "df_base = pd.read_csv('DataSet_Raw.csv')\n",
        "df_base.head(10)"
      ]
    },
    {
      "cell_type": "code",
      "execution_count": 5,
      "metadata": {
        "colab": {
          "base_uri": "https://localhost:8080/",
          "height": 363
        },
        "id": "C4lGoYaGcUlM",
        "outputId": "a1c13af0-162a-4f19-a7d2-ceb530a92291"
      },
      "outputs": [
        {
          "data": {
            "text/html": [
              "<div>\n",
              "<style scoped>\n",
              "    .dataframe tbody tr th:only-of-type {\n",
              "        vertical-align: middle;\n",
              "    }\n",
              "\n",
              "    .dataframe tbody tr th {\n",
              "        vertical-align: top;\n",
              "    }\n",
              "\n",
              "    .dataframe thead th {\n",
              "        text-align: right;\n",
              "    }\n",
              "</style>\n",
              "<table border=\"1\" class=\"dataframe\">\n",
              "  <thead>\n",
              "    <tr style=\"text-align: right;\">\n",
              "      <th></th>\n",
              "      <th>Job</th>\n",
              "      <th>Salary</th>\n",
              "      <th>Company</th>\n",
              "      <th>Location</th>\n",
              "    </tr>\n",
              "  </thead>\n",
              "  <tbody>\n",
              "    <tr>\n",
              "      <th>1269</th>\n",
              "      <td>VACANTEPAM - AB Initio Technical Leader</td>\n",
              "      <td>NaN</td>\n",
              "      <td>Banamex</td>\n",
              "      <td>Ciudad de México</td>\n",
              "    </tr>\n",
              "    <tr>\n",
              "      <th>1270</th>\n",
              "      <td>PAM Vacante IT Project Senior Analyst - C12</td>\n",
              "      <td>NaN</td>\n",
              "      <td>Banamex</td>\n",
              "      <td>Ciudad de México</td>\n",
              "    </tr>\n",
              "    <tr>\n",
              "      <th>1271</th>\n",
              "      <td>Tech Owner Content Management</td>\n",
              "      <td>NaN</td>\n",
              "      <td>Banamex</td>\n",
              "      <td>Ciudad de México</td>\n",
              "    </tr>\n",
              "    <tr>\n",
              "      <th>1272</th>\n",
              "      <td>Compl Product Sr Analyst</td>\n",
              "      <td>NaN</td>\n",
              "      <td>Banamex</td>\n",
              "      <td>Ciudad de México</td>\n",
              "    </tr>\n",
              "    <tr>\n",
              "      <th>1273</th>\n",
              "      <td>Testing Sr Analyst</td>\n",
              "      <td>NaN</td>\n",
              "      <td>Banamex</td>\n",
              "      <td>Ciudad de México</td>\n",
              "    </tr>\n",
              "    <tr>\n",
              "      <th>1274</th>\n",
              "      <td>Tech Lead CX Digital Wealth</td>\n",
              "      <td>NaN</td>\n",
              "      <td>Banamex</td>\n",
              "      <td>Ciudad de México</td>\n",
              "    </tr>\n",
              "    <tr>\n",
              "      <th>1275</th>\n",
              "      <td>Strategy Lead Analyst</td>\n",
              "      <td>NaN</td>\n",
              "      <td>Banamex</td>\n",
              "      <td>Ciudad de México</td>\n",
              "    </tr>\n",
              "    <tr>\n",
              "      <th>1276</th>\n",
              "      <td>Vacante PAM - Tech Lead &amp; Tech Owner</td>\n",
              "      <td>NaN</td>\n",
              "      <td>Banamex</td>\n",
              "      <td>Ciudad de México</td>\n",
              "    </tr>\n",
              "    <tr>\n",
              "      <th>1277</th>\n",
              "      <td>ComplAML KYC Analyst 2</td>\n",
              "      <td>NaN</td>\n",
              "      <td>Banamex</td>\n",
              "      <td>Ciudad de México</td>\n",
              "    </tr>\n",
              "    <tr>\n",
              "      <th>1278</th>\n",
              "      <td>Compl AML KYC Analyst 2</td>\n",
              "      <td>NaN</td>\n",
              "      <td>Banamex</td>\n",
              "      <td>México</td>\n",
              "    </tr>\n",
              "  </tbody>\n",
              "</table>\n",
              "</div>"
            ],
            "text/plain": [
              "                                              Job Salary  Company  \\\n",
              "1269      VACANTEPAM - AB Initio Technical Leader    NaN  Banamex   \n",
              "1270  PAM Vacante IT Project Senior Analyst - C12    NaN  Banamex   \n",
              "1271                Tech Owner Content Management    NaN  Banamex   \n",
              "1272                     Compl Product Sr Analyst    NaN  Banamex   \n",
              "1273                           Testing Sr Analyst    NaN  Banamex   \n",
              "1274                  Tech Lead CX Digital Wealth    NaN  Banamex   \n",
              "1275                        Strategy Lead Analyst    NaN  Banamex   \n",
              "1276         Vacante PAM - Tech Lead & Tech Owner    NaN  Banamex   \n",
              "1277                       ComplAML KYC Analyst 2    NaN  Banamex   \n",
              "1278                      Compl AML KYC Analyst 2    NaN  Banamex   \n",
              "\n",
              "              Location  \n",
              "1269  Ciudad de México  \n",
              "1270  Ciudad de México  \n",
              "1271  Ciudad de México  \n",
              "1272  Ciudad de México  \n",
              "1273  Ciudad de México  \n",
              "1274  Ciudad de México  \n",
              "1275  Ciudad de México  \n",
              "1276  Ciudad de México  \n",
              "1277  Ciudad de México  \n",
              "1278            México  "
            ]
          },
          "execution_count": 5,
          "metadata": {},
          "output_type": "execute_result"
        }
      ],
      "source": [
        "df_base.tail(10)"
      ]
    },
    {
      "cell_type": "markdown",
      "metadata": {
        "id": "8IKjOmjsaVNK"
      },
      "source": [
        "It can be observed that **data lacks consistency** in every variable. Some observations are in uppercase, some values are abbreviations, there is no salary value for each tuple, some observations do not correspond to data jobs, etc. Thus, it is necessary to clean the data. Nonetheless, some further exploration will be carried out to develop a more complete strategy for doing so."
      ]
    },
    {
      "cell_type": "code",
      "execution_count": 6,
      "metadata": {
        "colab": {
          "base_uri": "https://localhost:8080/"
        },
        "id": "JO4iO3ujaC68",
        "outputId": "b0178b9f-f79a-458d-bed1-8618c9b940b5"
      },
      "outputs": [
        {
          "data": {
            "text/plain": [
              "1279"
            ]
          },
          "execution_count": 6,
          "metadata": {},
          "output_type": "execute_result"
        }
      ],
      "source": [
        "# Number of observations\n",
        "len(df_base)"
      ]
    },
    {
      "cell_type": "code",
      "execution_count": 7,
      "metadata": {
        "colab": {
          "base_uri": "https://localhost:8080/"
        },
        "id": "Wu6D-6cUb5H1",
        "outputId": "7ad060c3-1366-43fe-f0ea-9d54343dfe3a"
      },
      "outputs": [
        {
          "name": "stdout",
          "output_type": "stream",
          "text": [
            "<class 'pandas.core.frame.DataFrame'>\n",
            "RangeIndex: 1279 entries, 0 to 1278\n",
            "Data columns (total 4 columns):\n",
            " #   Column    Non-Null Count  Dtype \n",
            "---  ------    --------------  ----- \n",
            " 0   Job       1279 non-null   object\n",
            " 1   Salary    482 non-null    object\n",
            " 2   Company   1130 non-null   object\n",
            " 3   Location  1279 non-null   object\n",
            "dtypes: object(4)\n",
            "memory usage: 40.1+ KB\n"
          ]
        }
      ],
      "source": [
        "# Basic dataset info\n",
        "df_base.info()"
      ]
    },
    {
      "cell_type": "markdown",
      "metadata": {
        "id": "lMUr6Hr7LWxd"
      },
      "source": [
        "From the results above it can be seen that the variables **Job** and **Location** do not exhibit null values, while **Company** and, most notably, **Salary** do. Indeed, it is a common practice in the Talent Recruitment field to not publishing the Salary of the vacancies, while in some cases the company offering the vacancy prefers to remain confidential."
      ]
    },
    {
      "cell_type": "code",
      "execution_count": 8,
      "metadata": {
        "colab": {
          "base_uri": "https://localhost:8080/",
          "height": 175
        },
        "id": "6vbcKBPhcEyW",
        "outputId": "fbe0afeb-ff18-4582-b7cd-f82b3421b2a6"
      },
      "outputs": [
        {
          "data": {
            "text/html": [
              "<div>\n",
              "<style scoped>\n",
              "    .dataframe tbody tr th:only-of-type {\n",
              "        vertical-align: middle;\n",
              "    }\n",
              "\n",
              "    .dataframe tbody tr th {\n",
              "        vertical-align: top;\n",
              "    }\n",
              "\n",
              "    .dataframe thead th {\n",
              "        text-align: right;\n",
              "    }\n",
              "</style>\n",
              "<table border=\"1\" class=\"dataframe\">\n",
              "  <thead>\n",
              "    <tr style=\"text-align: right;\">\n",
              "      <th></th>\n",
              "      <th>Job</th>\n",
              "      <th>Salary</th>\n",
              "      <th>Company</th>\n",
              "      <th>Location</th>\n",
              "    </tr>\n",
              "  </thead>\n",
              "  <tbody>\n",
              "    <tr>\n",
              "      <th>count</th>\n",
              "      <td>1279</td>\n",
              "      <td>482</td>\n",
              "      <td>1130</td>\n",
              "      <td>1279</td>\n",
              "    </tr>\n",
              "    <tr>\n",
              "      <th>unique</th>\n",
              "      <td>910</td>\n",
              "      <td>223</td>\n",
              "      <td>423</td>\n",
              "      <td>36</td>\n",
              "    </tr>\n",
              "    <tr>\n",
              "      <th>top</th>\n",
              "      <td>Business analyst</td>\n",
              "      <td>$40,000 - $50,000  Mensual</td>\n",
              "      <td>Banamex</td>\n",
              "      <td>Ciudad de México</td>\n",
              "    </tr>\n",
              "    <tr>\n",
              "      <th>freq</th>\n",
              "      <td>20</td>\n",
              "      <td>15</td>\n",
              "      <td>250</td>\n",
              "      <td>465</td>\n",
              "    </tr>\n",
              "  </tbody>\n",
              "</table>\n",
              "</div>"
            ],
            "text/plain": [
              "                     Job                      Salary  Company  \\\n",
              "count               1279                         482     1130   \n",
              "unique               910                         223      423   \n",
              "top     Business analyst  $40,000 - $50,000  Mensual  Banamex   \n",
              "freq                  20                          15      250   \n",
              "\n",
              "                Location  \n",
              "count               1279  \n",
              "unique                36  \n",
              "top     Ciudad de México  \n",
              "freq                 465  "
            ]
          },
          "execution_count": 8,
          "metadata": {},
          "output_type": "execute_result"
        }
      ],
      "source": [
        "# Basic dataset description\n",
        "df_base.describe()"
      ]
    },
    {
      "cell_type": "code",
      "execution_count": 9,
      "metadata": {
        "colab": {
          "base_uri": "https://localhost:8080/"
        },
        "id": "nhYOi2Lqd6m-",
        "outputId": "b9229603-064e-4240-f85f-b71358daa454"
      },
      "outputs": [
        {
          "data": {
            "text/plain": [
              "Job                                                   \n",
              "Business analyst                                          20\n",
              "Analista de datos                                         17\n",
              "Data Engineer                                             15\n",
              "Data engineer                                             13\n",
              "Data analyst                                              13\n",
              "                                                          ..\n",
              "Business Analyst - Diseño UX                               1\n",
              "Business Analyst - Polanco, Ciudad de México  (Amazon)     1\n",
              "Business Analyst / Bilingüe - Remoto                       1\n",
              "Business Analyst / QA Tester                               1\n",
              "• Order Entry /Data Entry Analyst                          1\n",
              "Length: 910, dtype: int64"
            ]
          },
          "execution_count": 9,
          "metadata": {},
          "output_type": "execute_result"
        }
      ],
      "source": [
        "# Value counts for each job position\n",
        "df_base[['Job']].value_counts()"
      ]
    },
    {
      "cell_type": "markdown",
      "metadata": {
        "id": "8N3EPAVCe5oO"
      },
      "source": [
        "910 different positions titles are present in the data set, while only 5 are required!\n",
        "\n",
        "On the other hand, the position of **_Business analyst_** appears to be the most demanded."
      ]
    },
    {
      "cell_type": "code",
      "execution_count": 10,
      "metadata": {
        "colab": {
          "base_uri": "https://localhost:8080/",
          "height": 485
        },
        "id": "k2gi8lidmvHG",
        "outputId": "a9eaf2b1-bd58-4e14-81b8-f314d75fe80f"
      },
      "outputs": [
        {
          "name": "stderr",
          "output_type": "stream",
          "text": [
            "C:\\Users\\DanielEduardo.Eduardo\\AppData\\Local\\Temp\\ipykernel_3660\\2987296090.py:4: MatplotlibDeprecationWarning: Support for passing numbers through unit converters is deprecated since 3.5 and support will be removed two minor releases later; use Axis.convert_units instead.\n",
            "  plt.xticks([])\n"
          ]
        },
        {
          "data": {
            "image/png": "[encoded data removed]",
            "text/plain": [
              "<Figure size 1080x576 with 1 Axes>"
            ]
          },
          "metadata": {},
          "output_type": "display_data"
        }
      ],
      "source": [
        "# Visual exploration of the Job variable\n",
        "fig, ax = plt.subplots(figsize = (15, 8))\n",
        "sns.scatterplot(x = df_base['Job'].unique(), y= df_base['Job'].value_counts(), color=\"Green\", alpha = 0.9)\n",
        "plt.xticks([])\n",
        "plt.yticks(list(range(1,21)))\n",
        "plt.xlabel('Job Title', fontsize=15, fontweight='bold')\n",
        "plt.ylabel('Frequency', fontsize=15, fontweight='bold')\n",
        "plt.show()"
      ]
    },
    {
      "cell_type": "markdown",
      "metadata": {
        "id": "q1zLBKHWJ02G"
      },
      "source": [
        "The plot above shows that the largest part of the job titles retrieved from the web scraping are **unique values**. Thus, this suggests that the job titles variable is fairly inconsistent and/or it exhibits a lot of other positions which are not of interest for this study."
      ]
    },
    {
      "cell_type": "code",
      "execution_count": 11,
      "metadata": {
        "colab": {
          "base_uri": "https://localhost:8080/",
          "height": 502
        },
        "id": "gwpsxSr4foFe",
        "outputId": "5d6dcbcd-e70a-4cdb-ff7a-4ab272616e25"
      },
      "outputs": [
        {
          "data": {
            "image/png": "[encoded data removed]",
            "text/plain": [
              "<Figure size 360x576 with 1 Axes>"
            ]
          },
          "metadata": {},
          "output_type": "display_data"
        }
      ],
      "source": [
        "# Visual exploration of the Location variable\n",
        "fig, ax = plt.subplots(figsize = (5, 8))\n",
        "sns.barplot(x = df_base['Location'].value_counts(), y= df_base['Location'].unique(), palette=\"Blues_r\", alpha = 0.9)\n",
        "plt.xlabel('Frequency', fontsize=15, fontweight='bold')\n",
        "plt.ylabel('State', fontsize=15, fontweight='bold')\n",
        "plt.show()"
      ]
    },
    {
      "cell_type": "markdown",
      "metadata": {
        "id": "EiHmKVqcf6uH"
      },
      "source": [
        "Some states appear with its full name and some with its abbreviation. Furthermore, some states such as Ciudad de México or Estado de México appear twice or trize due to different spellings.\n",
        "\n",
        "Notwithstanding with the above, it is clear that **Ciudad de México (Mexico City)** is the location where **the most data jobs are demanded**."
      ]
    },
    {
      "cell_type": "code",
      "execution_count": 12,
      "metadata": {
        "colab": {
          "base_uri": "https://localhost:8080/"
        },
        "id": "iRyA6cD9pC-Y",
        "outputId": "8579b494-dc03-414a-b425-89f0f855ac30"
      },
      "outputs": [
        {
          "data": {
            "text/plain": [
              "Banamex                                  250\n",
              "Grupo Salinas                             37\n",
              "UVI TECH SAPI DE CV                       23\n",
              "Softtek                                   22\n",
              "BBVA Bancomer                             17\n",
              "                                        ... \n",
              "FACTOR X CHATBOT FACTORY SC                1\n",
              "Proveedora de Seguridad Industrial...      1\n",
              "Probiomed, S.A. de C.V.                    1\n",
              "Grupo Comrap Administraciones              1\n",
              "Servicios y Productos Empresariale...      1\n",
              "Name: Company, Length: 423, dtype: int64"
            ]
          },
          "execution_count": 12,
          "metadata": {},
          "output_type": "execute_result"
        }
      ],
      "source": [
        "# Value counts for each company\n",
        "df_base['Company'].value_counts()"
      ]
    },
    {
      "cell_type": "markdown",
      "metadata": {
        "id": "5ixPf-fnvBQ2"
      },
      "source": [
        "By far, **_Banamex_** is the company with **the highest number of data jobs vacancies**. It is followed by **_Grupo Salinas_**, **_UVI TECH SAPI DE CV_** and **_Softtek_**."
      ]
    },
    {
      "cell_type": "code",
      "execution_count": 13,
      "metadata": {
        "colab": {
          "base_uri": "https://localhost:8080/",
          "height": 485
        },
        "id": "Yrk7Jng0gxKh",
        "outputId": "37ac6823-94b1-4403-9c95-6bc2bb3d7a36"
      },
      "outputs": [
        {
          "name": "stderr",
          "output_type": "stream",
          "text": [
            "C:\\Users\\DanielEduardo.Eduardo\\AppData\\Local\\Temp\\ipykernel_3660\\768674578.py:4: MatplotlibDeprecationWarning: Support for passing numbers through unit converters is deprecated since 3.5 and support will be removed two minor releases later; use Axis.convert_units instead.\n",
            "  plt.xticks([])\n"
          ]
        },
        {
          "data": {
            "image/png": "[encoded data removed]",
            "text/plain": [
              "<Figure size 1080x576 with 1 Axes>"
            ]
          },
          "metadata": {},
          "output_type": "display_data"
        }
      ],
      "source": [
        "# Visual exploration of the Company variable\n",
        "fig, ax = plt.subplots(figsize = (15, 8))\n",
        "sns.scatterplot(x = df_base['Company'].value_counts().keys(), y= df_base['Company'].value_counts(), color=\"Salmon\", alpha = 0.9)\n",
        "plt.xticks([])\n",
        "plt.xlabel('Company', fontsize=15, fontweight='bold')\n",
        "plt.ylabel('Frequency', fontsize=15, fontweight='bold')\n",
        "plt.show()"
      ]
    },
    {
      "cell_type": "markdown",
      "metadata": {
        "id": "lRbtelGTNzTN"
      },
      "source": [
        "The plot above shows that most companies only offer **one or two** data-realted positions."
      ]
    },
    {
      "cell_type": "code",
      "execution_count": 14,
      "metadata": {
        "colab": {
          "base_uri": "https://localhost:8080/"
        },
        "id": "fSbQ2En6opGk",
        "outputId": "f4792c2e-2d5a-4fb0-ce0d-c000e5d64928"
      },
      "outputs": [
        {
          "data": {
            "text/plain": [
              "$40,000 - $50,000  Mensual    15\n",
              "$30,000 - $35,000  Mensual    12\n",
              "$25,000 - $28,000  Mensual    11\n",
              "$30,000 - $40,000  Mensual     9\n",
              "$18,000  Mensual               9\n",
              "                              ..\n",
              "$6,500  Mensual                1\n",
              "$12,999 - $13,000  Mensual     1\n",
              "$11,582  Mensual               1\n",
              "$13,500 - $17,000  Mensual     1\n",
              "$19,000 - $22,000  Mensual     1\n",
              "Name: Salary, Length: 223, dtype: int64"
            ]
          },
          "execution_count": 14,
          "metadata": {},
          "output_type": "execute_result"
        }
      ],
      "source": [
        "# Value counts for each Salary\n",
        "df_base['Salary'].value_counts()"
      ]
    },
    {
      "cell_type": "markdown",
      "metadata": {
        "id": "-A9zH9BRrzyX"
      },
      "source": [
        "Obviously, firstly is necessary to clean the data in order to get more meaningful insights regarding the salary. However, it is noteworthy that most of the published vacancies offer a salary range rather than a single value. On the other hand, the periodicity of the payment (\"Mensual\") must be removed from all observations.\n",
        "\n",
        "On the other hand, it \"appears\" that the salary range from **40,000 MXN to 50,000 MXN** is the most common, which is probably not accurate due to the fact that the salary variable is a string instad of actual numbers."
      ]
    },
    {
      "cell_type": "markdown",
      "metadata": {
        "id": "riEO0fYhqL12"
      },
      "source": [
        "### **2. Data Cleaning and Wrangling**\n",
        "___\n",
        "From the raw data obtained through web scraping, it has been noticed that much of the vacancies published lack of salary data. However, those positions without said data might be useful for assessing the geographical distribution of the data jobs in Mexico as well as identiying which companies demand more data specialists even if they have not published a proposed salary.\n",
        "\n",
        "In this context, two datasets were built:\n",
        "1. One without salary data.\n",
        "2. One with positions with fully disclosed salary information.\n",
        "\n",
        "Thus, the base dataset was cleaned as a whole (dataset 1) and, then, the observations without salary data were dropped (dataset 2)."
      ]
    },
    {
      "cell_type": "code",
      "execution_count": 106,
      "metadata": {
        "id": "tZM2jO79kfbz"
      },
      "outputs": [],
      "source": [
        "# First, let's make a copy of the data frame\n",
        "df = df_base.copy()"
      ]
    },
    {
      "cell_type": "code",
      "execution_count": 107,
      "metadata": {},
      "outputs": [],
      "source": [
        "# Creating job dictionary\n",
        "job_dict = {\n",
        "    ('data', 'analyst'): \"Data Analyst\",\n",
        "    ('analista', 'datos'): \"Data Analyst\",\n",
        "\n",
        "    ('data', 'scientist'): \"Data Scientist\",\n",
        "    ('científico', 'datos'): \"Data Scientist\",\n",
        "    ('cientifico', 'datos'): \"Data Scientist\",\n",
        "\n",
        "    ('data', 'engineer'): \"Data Engineer\",\n",
        "    ('ingeniero', 'datos'): \"Data Engineer\",\n",
        "\n",
        "    ('business', 'analyst'): \"Business Analyst\",\n",
        "    ('analista', 'negocio'): \"Business Analyst\",\n",
        "    \n",
        "    ('data', 'architect'): \"Data Architect\",\n",
        "    ('arquitecto', 'datos'): \"Data Architect\"\n",
        "}"
      ]
    },
    {
      "cell_type": "code",
      "execution_count": 108,
      "metadata": {
        "colab": {
          "base_uri": "https://localhost:8080/"
        },
        "id": "eLHE5pO62qBf",
        "outputId": "0ddf2e8a-f075-40ba-c7cd-ba40959fbe01"
      },
      "outputs": [
        {
          "data": {
            "text/plain": [
              "True"
            ]
          },
          "execution_count": 108,
          "metadata": {},
          "output_type": "execute_result"
        }
      ],
      "source": [
        "# Proof of concept\n",
        "list(job_dict.keys())[0][0] in 'data analyst' and list(job_dict.keys())[0][1] in 'data analyst'"
      ]
    },
    {
      "cell_type": "code",
      "execution_count": 109,
      "metadata": {
        "colab": {
          "base_uri": "https://localhost:8080/",
          "height": 206
        },
        "id": "1xu4y6012eVf",
        "outputId": "e7e5aea9-fdcf-4409-9992-1d8bd110e4fb"
      },
      "outputs": [],
      "source": [
        "# Conversion of job observations to lower case\n",
        "df['Job'] = df['Job'].str.casefold()"
      ]
    },
    {
      "cell_type": "code",
      "execution_count": 110,
      "metadata": {
        "colab": {
          "base_uri": "https://localhost:8080/",
          "height": 345
        },
        "id": "qnYBrWJx5Dqu",
        "outputId": "b651075e-3fb1-41f2-fdc5-13040f5ae056"
      },
      "outputs": [
        {
          "data": {
            "text/html": [
              "<div>\n",
              "<style scoped>\n",
              "    .dataframe tbody tr th:only-of-type {\n",
              "        vertical-align: middle;\n",
              "    }\n",
              "\n",
              "    .dataframe tbody tr th {\n",
              "        vertical-align: top;\n",
              "    }\n",
              "\n",
              "    .dataframe thead th {\n",
              "        text-align: right;\n",
              "    }\n",
              "</style>\n",
              "<table border=\"1\" class=\"dataframe\">\n",
              "  <thead>\n",
              "    <tr style=\"text-align: right;\">\n",
              "      <th></th>\n",
              "      <th>Job</th>\n",
              "      <th>Salary</th>\n",
              "      <th>Company</th>\n",
              "      <th>Location</th>\n",
              "    </tr>\n",
              "  </thead>\n",
              "  <tbody>\n",
              "    <tr>\n",
              "      <th>0</th>\n",
              "      <td>Data Analyst</td>\n",
              "      <td>$47,000 - $53,000  Mensual</td>\n",
              "      <td>P3 IMPULSORES ESTRATEGICOS</td>\n",
              "      <td>CDMX</td>\n",
              "    </tr>\n",
              "    <tr>\n",
              "      <th>1</th>\n",
              "      <td>Data Analyst</td>\n",
              "      <td>$35,000  Mensual</td>\n",
              "      <td>Corporativo Mek de México</td>\n",
              "      <td>Ciudad de México</td>\n",
              "    </tr>\n",
              "    <tr>\n",
              "      <th>2</th>\n",
              "      <td>Data Analyst</td>\n",
              "      <td>NaN</td>\n",
              "      <td>FIDELITY MARKETING S.A DE C.V</td>\n",
              "      <td>CDMX</td>\n",
              "    </tr>\n",
              "    <tr>\n",
              "      <th>3</th>\n",
              "      <td>Data Analyst</td>\n",
              "      <td>$13,000 - $13,300  Mensual</td>\n",
              "      <td>Universidad Tecnológica de México</td>\n",
              "      <td>Ciudad de México</td>\n",
              "    </tr>\n",
              "    <tr>\n",
              "      <th>4</th>\n",
              "      <td>Data Analyst</td>\n",
              "      <td>NaN</td>\n",
              "      <td>Laboratorios Médicos del Chopo</td>\n",
              "      <td>CDMX</td>\n",
              "    </tr>\n",
              "    <tr>\n",
              "      <th>5</th>\n",
              "      <td>Data Analyst</td>\n",
              "      <td>$8,500 - $9,000  Mensual</td>\n",
              "      <td>Conduent de México SA de CV</td>\n",
              "      <td>Chih.</td>\n",
              "    </tr>\n",
              "    <tr>\n",
              "      <th>6</th>\n",
              "      <td>Data Analyst</td>\n",
              "      <td>NaN</td>\n",
              "      <td>Banamex</td>\n",
              "      <td>CDMX</td>\n",
              "    </tr>\n",
              "    <tr>\n",
              "      <th>7</th>\n",
              "      <td>Data Analyst</td>\n",
              "      <td>$7,500 - $8,500  Mensual</td>\n",
              "      <td>Grupo Comercial Control</td>\n",
              "      <td>Edo. Méx.​</td>\n",
              "    </tr>\n",
              "    <tr>\n",
              "      <th>8</th>\n",
              "      <td>Data Analyst</td>\n",
              "      <td>$7,000 - $8,000  Mensual</td>\n",
              "      <td>Ediciones Larousse, S.A. de C.V.</td>\n",
              "      <td>CDMX</td>\n",
              "    </tr>\n",
              "    <tr>\n",
              "      <th>9</th>\n",
              "      <td>Data Analyst</td>\n",
              "      <td>$12,000  Mensual</td>\n",
              "      <td>Auto Líneas América</td>\n",
              "      <td>Gto.</td>\n",
              "    </tr>\n",
              "  </tbody>\n",
              "</table>\n",
              "</div>"
            ],
            "text/plain": [
              "            Job                      Salary  \\\n",
              "0  Data Analyst  $47,000 - $53,000  Mensual   \n",
              "1  Data Analyst            $35,000  Mensual   \n",
              "2  Data Analyst                         NaN   \n",
              "3  Data Analyst  $13,000 - $13,300  Mensual   \n",
              "4  Data Analyst                         NaN   \n",
              "5  Data Analyst    $8,500 - $9,000  Mensual   \n",
              "6  Data Analyst                         NaN   \n",
              "7  Data Analyst    $7,500 - $8,500  Mensual   \n",
              "8  Data Analyst    $7,000 - $8,000  Mensual   \n",
              "9  Data Analyst            $12,000  Mensual   \n",
              "\n",
              "                             Company          Location  \n",
              "0         P3 IMPULSORES ESTRATEGICOS              CDMX  \n",
              "1          Corporativo Mek de México  Ciudad de México  \n",
              "2      FIDELITY MARKETING S.A DE C.V              CDMX  \n",
              "3  Universidad Tecnológica de México  Ciudad de México  \n",
              "4     Laboratorios Médicos del Chopo              CDMX  \n",
              "5        Conduent de México SA de CV             Chih.  \n",
              "6                            Banamex              CDMX  \n",
              "7            Grupo Comercial Control        Edo. Méx.​  \n",
              "8   Ediciones Larousse, S.A. de C.V.              CDMX  \n",
              "9                Auto Líneas América              Gto.  "
            ]
          },
          "execution_count": 110,
          "metadata": {},
          "output_type": "execute_result"
        }
      ],
      "source": [
        "# Cleaning of the variable Job\n",
        "for i in range(len(job_dict)):\n",
        "    df['Job'] = df['Job'].map(lambda x: list(job_dict.values())[i] if (list(job_dict.keys())[i][0] in x and list(job_dict.keys())[i][1] in x) else x)\n",
        "\n",
        "df.head(10)"
      ]
    },
    {
      "cell_type": "code",
      "execution_count": 77,
      "metadata": {},
      "outputs": [
        {
          "data": {
            "image/png": "[encoded data removed]",
            "text/plain": [
              "<Figure size 720x432 with 1 Axes>"
            ]
          },
          "metadata": {},
          "output_type": "display_data"
        }
      ],
      "source": [
        "# Visual exploration of the cleaned Job variable (first 15 positions)\n",
        "fig, ax = plt.subplots(figsize = (10, 6))\n",
        "sns.barplot(x = df['Job'].value_counts()[:15], y= df['Job'].value_counts().keys()[:15], palette=\"viridis\", alpha = 0.9)\n",
        "plt.title('First 15 Job Titles by Frequency', fontsize=15, fontweight='bold')\n",
        "plt.xlabel('Frequency', fontsize=15, fontweight='bold')\n",
        "plt.ylabel('Job Title', fontsize=15, fontweight='bold')\n",
        "plt.show()\n"
      ]
    },
    {
      "cell_type": "code",
      "execution_count": 111,
      "metadata": {},
      "outputs": [
        {
          "data": {
            "text/plain": [
              "Data Analyst        212\n",
              "Business Analyst    174\n",
              "Data Engineer       120\n",
              "Data Scientist       61\n",
              "Data Architect       18\n",
              "Name: Job, dtype: int64"
            ]
          },
          "execution_count": 111,
          "metadata": {},
          "output_type": "execute_result"
        }
      ],
      "source": [
        "# Drop of observations not corresponding to Data Jobs\n",
        "df = df.loc[(df['Job'] == 'Data Analyst') | (df['Job'] == 'Business Analyst') | (df['Job'] == 'Data Engineer') | (df['Job'] == 'Data Scientist') | (df['Job'] == 'Data Architect')]\n",
        "df['Job'].value_counts()"
      ]
    },
    {
      "cell_type": "code",
      "execution_count": 114,
      "metadata": {},
      "outputs": [
        {
          "data": {
            "image/png": "[encoded data removed]",
            "text/plain": [
              "<Figure size 576x288 with 1 Axes>"
            ]
          },
          "metadata": {},
          "output_type": "display_data"
        }
      ],
      "source": [
        "# Visual exploration of the cleaned Job variable (first 15 positions)\n",
        "fig, ax = plt.subplots(figsize = (8, 4))\n",
        "sns.barplot(x = df['Job'].value_counts()[:15], y= df['Job'].value_counts().keys()[:15], palette=\"gnuplot2\", alpha = 0.7)\n",
        "plt.title('Frequency per Job Title', fontsize=15, fontweight='bold')\n",
        "plt.xlabel('Frequency', fontsize=15, fontweight='bold')\n",
        "plt.ylabel('Job Title', fontsize=15, fontweight='bold')\n",
        "plt.show()"
      ]
    },
    {
      "cell_type": "code",
      "execution_count": 103,
      "metadata": {
        "id": "8a2ZKO2TprLS"
      },
      "outputs": [],
      "source": [
        "# Dictionary with the retrieved Location values\n",
        "location_dict = {\n",
        "    'CDMX': 'Ciudad de México',\n",
        "    'Chih.': 'Chihuahua',\n",
        "    'Edo. Méx.​': 'Estado de México',\n",
        "    'Gto.': 'Guanajuato',\n",
        "    'Jal.': 'Jalisco',\n",
        "    'Q. Roo': 'Quintana Roo',\n",
        "    'N. L.': 'Nuevo León',\n",
        "    'N.L.': 'Nuevo León',\n",
        "    'Pue.': 'Puebla',\n",
        "    'México': 'Estado de México',\n",
        "    'Zac.': 'Zacatecas',\n",
        "    'Tamps.': 'Tamaulipas',\n",
        "    'Mor.': 'Morelos',\n",
        "    'Sin.': 'Sinaloa',\n",
        "    'Oax.': 'Oaxaca',\n",
        "    'Qro.': 'Querétaro',\n",
        "    'Mich.': 'Michoacán',\n",
        "    'Son.': 'Sonora',\n",
        "    'BC.': 'Baja California',\n",
        "    'SLP.': 'San Luis Potosí',\n",
        "    'Yuc.': 'Yucatán',\n",
        "    'Coah.': 'Coahuila',\n",
        "    'BCS.': 'Baja California Sur',\n",
        "    'Nay.': 'Nayarit',\n",
        "    'Ags.': 'Aguascalientes'\n",
        "    }"
      ]
    },
    {
      "cell_type": "code",
      "execution_count": 104,
      "metadata": {
        "colab": {
          "base_uri": "https://localhost:8080/",
          "height": 363
        },
        "id": "ltOqntSXqOv9",
        "outputId": "673b548a-8360-430c-af95-9f118f51606d"
      },
      "outputs": [
        {
          "data": {
            "text/html": [
              "<div>\n",
              "<style scoped>\n",
              "    .dataframe tbody tr th:only-of-type {\n",
              "        vertical-align: middle;\n",
              "    }\n",
              "\n",
              "    .dataframe tbody tr th {\n",
              "        vertical-align: top;\n",
              "    }\n",
              "\n",
              "    .dataframe thead th {\n",
              "        text-align: right;\n",
              "    }\n",
              "</style>\n",
              "<table border=\"1\" class=\"dataframe\">\n",
              "  <thead>\n",
              "    <tr style=\"text-align: right;\">\n",
              "      <th></th>\n",
              "      <th>Job</th>\n",
              "      <th>Salary</th>\n",
              "      <th>Company</th>\n",
              "      <th>Location</th>\n",
              "    </tr>\n",
              "  </thead>\n",
              "  <tbody>\n",
              "    <tr>\n",
              "      <th>0</th>\n",
              "      <td>Data Analyst</td>\n",
              "      <td>$47,000 - $53,000  Mensual</td>\n",
              "      <td>P3 IMPULSORES ESTRATEGICOS</td>\n",
              "      <td>Ciudad de México</td>\n",
              "    </tr>\n",
              "    <tr>\n",
              "      <th>1</th>\n",
              "      <td>Data Analyst</td>\n",
              "      <td>$35,000  Mensual</td>\n",
              "      <td>Corporativo Mek de México</td>\n",
              "      <td>Ciudad de México</td>\n",
              "    </tr>\n",
              "    <tr>\n",
              "      <th>2</th>\n",
              "      <td>Data Analyst</td>\n",
              "      <td>NaN</td>\n",
              "      <td>FIDELITY MARKETING S.A DE C.V</td>\n",
              "      <td>Ciudad de México</td>\n",
              "    </tr>\n",
              "    <tr>\n",
              "      <th>3</th>\n",
              "      <td>Data Analyst</td>\n",
              "      <td>$13,000 - $13,300  Mensual</td>\n",
              "      <td>Universidad Tecnológica de México</td>\n",
              "      <td>Ciudad de México</td>\n",
              "    </tr>\n",
              "    <tr>\n",
              "      <th>4</th>\n",
              "      <td>Data Analyst</td>\n",
              "      <td>NaN</td>\n",
              "      <td>Laboratorios Médicos del Chopo</td>\n",
              "      <td>Ciudad de México</td>\n",
              "    </tr>\n",
              "    <tr>\n",
              "      <th>5</th>\n",
              "      <td>Data Analyst</td>\n",
              "      <td>$8,500 - $9,000  Mensual</td>\n",
              "      <td>Conduent de México SA de CV</td>\n",
              "      <td>Chihuahua</td>\n",
              "    </tr>\n",
              "    <tr>\n",
              "      <th>6</th>\n",
              "      <td>Data Analyst</td>\n",
              "      <td>NaN</td>\n",
              "      <td>Banamex</td>\n",
              "      <td>Ciudad de México</td>\n",
              "    </tr>\n",
              "    <tr>\n",
              "      <th>7</th>\n",
              "      <td>Data Analyst</td>\n",
              "      <td>$7,500 - $8,500  Mensual</td>\n",
              "      <td>Grupo Comercial Control</td>\n",
              "      <td>Estado de México</td>\n",
              "    </tr>\n",
              "    <tr>\n",
              "      <th>8</th>\n",
              "      <td>Data Analyst</td>\n",
              "      <td>$7,000 - $8,000  Mensual</td>\n",
              "      <td>Ediciones Larousse, S.A. de C.V.</td>\n",
              "      <td>Ciudad de México</td>\n",
              "    </tr>\n",
              "    <tr>\n",
              "      <th>9</th>\n",
              "      <td>Data Analyst</td>\n",
              "      <td>$12,000  Mensual</td>\n",
              "      <td>Auto Líneas América</td>\n",
              "      <td>Guanajuato</td>\n",
              "    </tr>\n",
              "  </tbody>\n",
              "</table>\n",
              "</div>"
            ],
            "text/plain": [
              "            Job                      Salary  \\\n",
              "0  Data Analyst  $47,000 - $53,000  Mensual   \n",
              "1  Data Analyst            $35,000  Mensual   \n",
              "2  Data Analyst                         NaN   \n",
              "3  Data Analyst  $13,000 - $13,300  Mensual   \n",
              "4  Data Analyst                         NaN   \n",
              "5  Data Analyst    $8,500 - $9,000  Mensual   \n",
              "6  Data Analyst                         NaN   \n",
              "7  Data Analyst    $7,500 - $8,500  Mensual   \n",
              "8  Data Analyst    $7,000 - $8,000  Mensual   \n",
              "9  Data Analyst            $12,000  Mensual   \n",
              "\n",
              "                             Company          Location  \n",
              "0         P3 IMPULSORES ESTRATEGICOS  Ciudad de México  \n",
              "1          Corporativo Mek de México  Ciudad de México  \n",
              "2      FIDELITY MARKETING S.A DE C.V  Ciudad de México  \n",
              "3  Universidad Tecnológica de México  Ciudad de México  \n",
              "4     Laboratorios Médicos del Chopo  Ciudad de México  \n",
              "5        Conduent de México SA de CV         Chihuahua  \n",
              "6                            Banamex  Ciudad de México  \n",
              "7            Grupo Comercial Control  Estado de México  \n",
              "8   Ediciones Larousse, S.A. de C.V.  Ciudad de México  \n",
              "9                Auto Líneas América        Guanajuato  "
            ]
          },
          "execution_count": 104,
          "metadata": {},
          "output_type": "execute_result"
        }
      ],
      "source": [
        "# Cleaning of the Location variable in the dataset\n",
        "for i in range(len(location_dict)):\n",
        "  df['Location'] = df['Location'].map(lambda x: list(location_dict.values())[i] if x == list(location_dict.keys())[i] else x)\n",
        "\n",
        "df.head(10)"
      ]
    },
    {
      "cell_type": "code",
      "execution_count": 105,
      "metadata": {
        "colab": {
          "base_uri": "https://localhost:8080/",
          "height": 502
        },
        "id": "5-3ccs2oohBo",
        "outputId": "30a1139e-9939-40ff-8c8a-42d74425fdcb"
      },
      "outputs": [
        {
          "data": {
            "image/png": "[encoded data removed]",
            "text/plain": [
              "<Figure size 360x576 with 1 Axes>"
            ]
          },
          "metadata": {},
          "output_type": "display_data"
        }
      ],
      "source": [
        "# Visual exploration of the cleaned Location variable\n",
        "fig, ax = plt.subplots(figsize = (5, 8))\n",
        "sns.barplot(x = df['Location'].value_counts(), y= df['Location'].unique(), palette=\"Spectral_r\", alpha = 0.9)\n",
        "plt.xlabel('Frequency', fontsize=15, fontweight='bold')\n",
        "plt.ylabel('State', fontsize=15, fontweight='bold')\n",
        "plt.show()\n"
      ]
    },
    {
      "cell_type": "code",
      "execution_count": null,
      "metadata": {
        "id": "DQm5tYYBvz05"
      },
      "outputs": [],
      "source": []
    }
  ],
  "metadata": {
    "colab": {
      "collapsed_sections": [],
      "name": "2-DataWrangling.ipynb",
      "provenance": []
    },
    "kernelspec": {
      "display_name": "Python 3.8.8 ('base')",
      "language": "python",
      "name": "python3"
    },
    "language_info": {
      "codemirror_mode": {
        "name": "ipython",
        "version": 3
      },
      "file_extension": ".py",
      "mimetype": "text/x-python",
      "name": "python",
      "nbconvert_exporter": "python",
      "pygments_lexer": "ipython3",
      "version": "3.8.8"
    },
    "vscode": {
      "interpreter": {
        "hash": "6e975f9d2f60b4d9c1da07316fa345238690997a135e24c2e358becc5092ba7f"
      }
    }
  },
  "nbformat": 4,
  "nbformat_minor": 0
}
